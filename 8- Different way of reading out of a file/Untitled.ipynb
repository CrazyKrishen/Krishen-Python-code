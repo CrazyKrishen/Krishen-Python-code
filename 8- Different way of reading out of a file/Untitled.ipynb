{
 "cells": [
  {
   "cell_type": "code",
   "execution_count": 3,
   "id": "b5827f2d",
   "metadata": {},
   "outputs": [],
   "source": [
    "mySentence='Everyday a grape licks a friendly cow'\n",
    "\n",
    "#open file\n",
    "myFile='information.txt'\n",
    "\n",
    "x=open(myFile,'w')\n",
    "\n",
    "x.write('\\n%s'%mySentence)  #write \n",
    "x.close()\n",
    "\n",
    "\n",
    "t=open(myFile,'r')\n",
    "\n",
    "while True:\n",
    "    line=t.readline()\n",
    "    if len(line) == 0:\n",
    "        break\n",
    "        print(line)\n",
    "        \n",
    "x.close()\n"
   ]
  },
  {
   "cell_type": "code",
   "execution_count": null,
   "id": "134914ea",
   "metadata": {},
   "outputs": [],
   "source": []
  }
 ],
 "metadata": {
  "kernelspec": {
   "display_name": "Python 3 (ipykernel)",
   "language": "python",
   "name": "python3"
  },
  "language_info": {
   "codemirror_mode": {
    "name": "ipython",
    "version": 3
   },
   "file_extension": ".py",
   "mimetype": "text/x-python",
   "name": "python",
   "nbconvert_exporter": "python",
   "pygments_lexer": "ipython3",
   "version": "3.9.13"
  }
 },
 "nbformat": 4,
 "nbformat_minor": 5
}
