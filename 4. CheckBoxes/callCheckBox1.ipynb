{
 "cells": [
  {
   "cell_type": "code",
   "execution_count": 1,
   "id": "269f8494-03ef-43b3-b9a8-c10b2ecd638d",
   "metadata": {},
   "outputs": [
    {
     "name": "stderr",
     "output_type": "stream",
     "text": [
      "C:\\Users\\krish\\AppData\\Local\\Temp\\ipykernel_120528\\3257904375.py:5: DeprecationWarning: sipPyTypeDict() is deprecated, the extension module should use sipPyTypeDictRef() instead\n",
      "  class MyForm(QDialog):\n"
     ]
    },
    {
     "ename": "SystemExit",
     "evalue": "0",
     "output_type": "error",
     "traceback": [
      "An exception has occurred, use %tb to see the full traceback.\n",
      "\u001b[1;31mSystemExit\u001b[0m\u001b[1;31m:\u001b[0m 0\n"
     ]
    },
    {
     "name": "stderr",
     "output_type": "stream",
     "text": [
      "C:\\Users\\krish\\anaconda3\\Lib\\site-packages\\IPython\\core\\interactiveshell.py:3561: UserWarning: To exit: use 'exit', 'quit', or Ctrl-D.\n",
      "  warn(\"To exit: use 'exit', 'quit', or Ctrl-D.\", stacklevel=1)\n"
     ]
    }
   ],
   "source": [
    "import sys\n",
    "from PyQt5.QtWidgets import QDialog\n",
    "from PyQt5.QtWidgets import QApplication, QWidget, QPushButton\n",
    "from demoCheckBox1 import *\n",
    "class MyForm(QDialog):\n",
    "    def __init__(self):\n",
    "        super().__init__()\n",
    "        self.ui = Ui_Dialog()\n",
    "        self.ui.setupUi(self)\n",
    "        self.ui.checkBoxCheese.stateChanged.connect(self.dispAmount)\n",
    "        self.ui.checkBoxOlives.stateChanged.connect(self.dispAmount)\n",
    "        self.ui.checkBoxSausages.stateChanged.connect(self.dispAmount)\n",
    "        self.show()\n",
    "    def dispAmount(self):\n",
    "        amount =10\n",
    "        if self.ui.checkBoxCheese.isChecked()==True:\n",
    "            amount =amount+1\n",
    "        if self.ui.checkBoxOlives.isChecked()==True:\n",
    "            amount=amount +1\n",
    "        if self.ui.checkBoxSausages.isChecked()==True:\n",
    "            amount = amount+2\n",
    "        self.ui.labelAmount.setText(\"Total amount for pizza is \"+str(amount))\n",
    "\n",
    "if __name__==\"__main__\":\n",
    "    app = QApplication(sys.argv)\n",
    "    w = MyForm()\n",
    "    w.show()\n",
    "    sys.exit(app.exec_())\n",
    "    \n",
    "\n",
    "\n",
    "            \n",
    "        \n",
    "        "
   ]
  },
  {
   "cell_type": "code",
   "execution_count": null,
   "id": "3834abad-6d50-4751-a5a7-f0843b9c4db5",
   "metadata": {},
   "outputs": [],
   "source": []
  },
  {
   "cell_type": "code",
   "execution_count": null,
   "id": "c2198ba8-09aa-4e1a-877a-c74861bfc912",
   "metadata": {},
   "outputs": [],
   "source": []
  }
 ],
 "metadata": {
  "kernelspec": {
   "display_name": "Python 3 (ipykernel)",
   "language": "python",
   "name": "python3"
  },
  "language_info": {
   "codemirror_mode": {
    "name": "ipython",
    "version": 3
   },
   "file_extension": ".py",
   "mimetype": "text/x-python",
   "name": "python",
   "nbconvert_exporter": "python",
   "pygments_lexer": "ipython3",
   "version": "3.11.7"
  }
 },
 "nbformat": 4,
 "nbformat_minor": 5
}
