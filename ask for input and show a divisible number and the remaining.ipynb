{
 "cells": [
  {
   "cell_type": "code",
   "execution_count": 3,
   "id": "c91885ff",
   "metadata": {},
   "outputs": [
    {
     "name": "stdout",
     "output_type": "stream",
     "text": [
      "Please enter number of books: 10\n",
      "Please enter number of students: 11\n",
      "The divisible books are  0.9090909090909091\n",
      "The remianing books are  10\n"
     ]
    }
   ],
   "source": [
    "#ask for input and show a divisible number and the remaining\n",
    "\n",
    "books = int(input('Please enter number of books: '))\n",
    "students = int(input('Please enter number of students: '))\n",
    "\n",
    "dividedResult = books / students \n",
    "remaining = books % students\n",
    "\n",
    "\n",
    "print ('The divisible books are ', dividedResult)\n",
    "print ('The remianing books are ', remaining)"
   ]
  },
  {
   "cell_type": "code",
   "execution_count": null,
   "id": "b258b8da",
   "metadata": {},
   "outputs": [],
   "source": []
  }
 ],
 "metadata": {
  "kernelspec": {
   "display_name": "Python 3 (ipykernel)",
   "language": "python",
   "name": "python3"
  },
  "language_info": {
   "codemirror_mode": {
    "name": "ipython",
    "version": 3
   },
   "file_extension": ".py",
   "mimetype": "text/x-python",
   "name": "python",
   "nbconvert_exporter": "python",
   "pygments_lexer": "ipython3",
   "version": "3.9.13"
  }
 },
 "nbformat": 4,
 "nbformat_minor": 5
}
