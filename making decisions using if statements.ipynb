{
 "cells": [
  {
   "cell_type": "code",
   "execution_count": null,
   "id": "ef42449d",
   "metadata": {},
   "outputs": [],
   "source": [
    "#if else\n",
    "\n",
    "#input\n",
    "age=int(input('Please enter your age: '))\n",
    "#process\n",
    "if age>=18:\n",
    "    #output\n",
    "    print('You can get a license')\n",
    "else:\n",
    "#output\n",
    "      print('You are young and cannot get a license!')"
   ]
  },
  {
   "cell_type": "code",
   "execution_count": null,
   "id": "b3225a43",
   "metadata": {},
   "outputs": [],
   "source": [
    "#lower case input, here if you type in capital letter it will still recognise the word\n",
    "\n",
    "#input\n",
    "\n",
    "weather= (input('Please enter the weather: ')).lower()  #must use .lower() for lower case letter so if user \n",
    "  #process                                                    #types in caps, it will recognise the word\n",
    "if weather=='rainy':\n",
    "    #output\n",
    "    print('Please carry an umbrella! ')\n",
    "    \n",
    "else:\n",
    "    #output\n",
    "    print('Wear shorts')"
   ]
  },
  {
   "cell_type": "code",
   "execution_count": 11,
   "id": "d1f478fd",
   "metadata": {},
   "outputs": [
    {
     "name": "stdout",
     "output_type": "stream",
     "text": [
      "Choose a color: Blue, Red: RED\n",
      "You chose red\n"
     ]
    }
   ],
   "source": [
    "#if elif else\n",
    "\n",
    "color= (input('Choose a color: Blue, Red: ')).lower()\n",
    "\n",
    "if color=='blue':\n",
    "    \n",
    "    print('You chose blue')\n",
    "    \n",
    "elif color=='red':\n",
    "    \n",
    "    print('You chose red')\n",
    "    \n",
    "else:\n",
    "    \n",
    "    print('You didnt choose the right color!')\n"
   ]
  },
  {
   "cell_type": "code",
   "execution_count": 3,
   "id": "ae88e88a",
   "metadata": {},
   "outputs": [
    {
     "name": "stdout",
     "output_type": "stream",
     "text": [
      "Please enter you name of you in class 12D: Benny\n",
      "You are not found in the class\n"
     ]
    }
   ],
   "source": [
    "#Lists\n",
    "#you can create a list then ask user to input their names, search it via the list, and \n",
    "#if its not there then display a message\n",
    " \n",
    "\n",
    "myClass= ['alton', 'alwin','abaslom','brandon','krishen']\n",
    "\n",
    "name=(input('Please enter you name of you in class 12D: ')).lower()\n",
    "\n",
    "if name not in myClass:       #in the list 'not in' searches within the list, important\n",
    "    \n",
    "    #output\n",
    "     print('You are not found in the class')\n",
    "    \n",
    "else:\n",
    "    \n",
    "    print('Welcome back for another class session!')"
   ]
  },
  {
   "cell_type": "code",
   "execution_count": 30,
   "id": "434106c6",
   "metadata": {},
   "outputs": [
    {
     "name": "stdout",
     "output_type": "stream",
     "text": [
      "Please enter you name of you in class 12D: kaka\n",
      "Sorry Kaka,  you are not found in the class\n"
     ]
    }
   ],
   "source": [
    "#Lists\n",
    "#you can create a list then ask user to input their names, search it via the list, and \n",
    "#if its not there then display a message.\n",
    "#Here we will use length to search for the names(lenth to compare)\n",
    "\n",
    "\n",
    "myClass= ['alton', 'alwin','abaslom','brandon','krishen']\n",
    "\n",
    "name=(input('Please enter you name of you in class 12D: ')).lower()\n",
    "\n",
    "if name not in myClass:       #in the list 'not in' searches within the list, important\n",
    "    \n",
    "    #output\n",
    "     print('Sorry %s,  you are not found in the class' %(name.title()) )   #recalling the name of the input the user put.\n",
    "        #(variebleName.title) is capitalizing the initials of the name \n",
    "                                                                            \n",
    "else:\n",
    "    \n",
    "    print('Welcome back %s,  for another class session!' %(name.title()))"
   ]
  },
  {
   "cell_type": "code",
   "execution_count": 17,
   "id": "3cde5459",
   "metadata": {},
   "outputs": [
    {
     "name": "stdout",
     "output_type": "stream",
     "text": [
      "They are not the same \n"
     ]
    }
   ],
   "source": [
    "#testing the lenth (len)\n",
    "\n",
    "a='banana'\n",
    "b='apple'\n",
    "\n",
    "if(len(a)==len(b)):                            #len()Counts and returns the number of characters\n",
    "                                               #in the sequence (string, tuple, or list) or in\n",
    "                                               #the mapping (dictionary).\n",
    "    print('They are the same ')\n",
    "\n",
    "else:\n",
    "    print('They are not the same ')\n",
    "    \n",
    "    "
   ]
  },
  {
   "cell_type": "code",
   "execution_count": 19,
   "id": "fe9d6ac7",
   "metadata": {},
   "outputs": [
    {
     "name": "stdout",
     "output_type": "stream",
     "text": [
      "They are the same \n"
     ]
    }
   ],
   "source": [
    "#testing the lenth (len)\n",
    "\n",
    "a='banana'\n",
    "b='banana'\n",
    "\n",
    "if(len(a)==len(b)):\n",
    "    print('They are the same ')\n",
    "\n",
    "else:\n",
    "    print('They are not the same ')\n",
    "    "
   ]
  },
  {
   "cell_type": "code",
   "execution_count": 29,
   "id": "b321b555",
   "metadata": {},
   "outputs": [
    {
     "name": "stdout",
     "output_type": "stream",
     "text": [
      "Krishen Read A Book Named The Alpha\n"
     ]
    }
   ],
   "source": [
    "name='krishen read a book named the alpha'\n",
    "b=name.title()     #variableName.title() capitalizes beginning of all the words in the sentence\n",
    "print(b)           #link to explain https://www.youtube.com/watch?v=ch65lfmmcPE"
   ]
  },
  {
   "cell_type": "code",
   "execution_count": null,
   "id": "68294b12",
   "metadata": {},
   "outputs": [],
   "source": []
  }
 ],
 "metadata": {
  "kernelspec": {
   "display_name": "Python 3 (ipykernel)",
   "language": "python",
   "name": "python3"
  },
  "language_info": {
   "codemirror_mode": {
    "name": "ipython",
    "version": 3
   },
   "file_extension": ".py",
   "mimetype": "text/x-python",
   "name": "python",
   "nbconvert_exporter": "python",
   "pygments_lexer": "ipython3",
   "version": "3.9.13"
  }
 },
 "nbformat": 4,
 "nbformat_minor": 5
}
