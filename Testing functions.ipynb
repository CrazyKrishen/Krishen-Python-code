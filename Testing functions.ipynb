{
 "cells": [
  {
   "cell_type": "code",
   "execution_count": 2,
   "id": "22a7b9cd",
   "metadata": {},
   "outputs": [
    {
     "name": "stdout",
     "output_type": "stream",
     "text": [
      "Please enter first number: 20\n",
      "Please enter second number: 10\n",
      "The answer is:  200\n"
     ]
    }
   ],
   "source": [
    "#testing a fucntion\n",
    "\n",
    "def multiplied_fuc(a,b):     #here we are defining the function, we use 'def' to declare them\n",
    "    c=a*b\n",
    "    return c\n",
    "\n",
    "\n",
    "number1=int(input('Please enter first number: '))\n",
    "number2=int(input('Please enter second number: '))\n",
    "\n",
    "multiplied=multiplied_fuc(number1,number2)\n",
    "\n",
    "print('The answer is: ',multiplied)"
   ]
  },
  {
   "cell_type": "code",
   "execution_count": 3,
   "id": "1a0a9c64",
   "metadata": {},
   "outputs": [
    {
     "name": "stdout",
     "output_type": "stream",
     "text": [
      "Please enter first number: 10\n",
      "Please enter second number: 56\n",
      "Please enter third number: 100\n",
      "The answer is:  166\n"
     ]
    }
   ],
   "source": [
    "def added_fuc(a,b,c):\n",
    "    \n",
    "    return (a+b+c)\n",
    "\n",
    "\n",
    "number1=int(input('Please enter first number: '))\n",
    "number2=int(input('Please enter second number: '))\n",
    "number3=int(input('Please enter third number: '))\n",
    "\n",
    "totoal=added_fuc(number1,number2, number3)\n",
    "\n",
    "print('The answer is: ',totoal)"
   ]
  },
  {
   "cell_type": "code",
   "execution_count": 6,
   "id": "843ac2bf",
   "metadata": {},
   "outputs": [
    {
     "name": "stdout",
     "output_type": "stream",
     "text": [
      "Please enter first number: 20\n",
      "Please enter second number: 20\n",
      "The answer is:  20.0\n"
     ]
    }
   ],
   "source": [
    "def divisible_fuc(a,b):\n",
    "    \n",
    "    return ((a+b)/2)\n",
    "\n",
    "\n",
    "number1=int(input('Please enter first number: '))\n",
    "number2=int(input('Please enter second number: '))\n",
    "\n",
    "\n",
    "totoal=divisible_fuc(number1,number2)\n",
    "\n",
    "print('The answer is: ',totoal)"
   ]
  },
  {
   "cell_type": "code",
   "execution_count": 9,
   "id": "e7db419f",
   "metadata": {},
   "outputs": [
    {
     "name": "stdout",
     "output_type": "stream",
     "text": [
      "Please enter first number: 2\n",
      "You have selected opion 2\n"
     ]
    }
   ],
   "source": [
    "def number_selected(a):\n",
    "    if a==1:\n",
    "        b=\"You have selected opion 1\"\n",
    "    elif a==2:\n",
    "        b=\"You have selected opion 2\"\n",
    "    else:\n",
    "        b=\"Invalid option!\"\n",
    "        \n",
    "    return b\n",
    "\n",
    "\n",
    "number1=int(input('Please enter first number: '))\n",
    "\n",
    "\n",
    "option=number_selected(number1)\n",
    "\n",
    "print(option)"
   ]
  },
  {
   "cell_type": "code",
   "execution_count": 13,
   "id": "6d6fa1e3",
   "metadata": {},
   "outputs": [
    {
     "name": "stdout",
     "output_type": "stream",
     "text": [
      "Please enter first number: 10\n",
      "Please enter second number: 60\n",
      "Added 10 to your first number is:  20\n",
      "Your 2 numbers added togther is:  70\n"
     ]
    }
   ],
   "source": [
    "#default parameter here\n",
    "\n",
    "def added_ten(a,b=10):   #b=10 is your default value\n",
    "    c=a+b\n",
    "    \n",
    "    return c\n",
    "\n",
    "\n",
    "number1=int(input('Please enter first number: '))\n",
    "number2=int(input('Please enter second number: '))\n",
    "\n",
    "option=added_ten(number1)\n",
    "\n",
    "print('Added 10 to your first number is: ',option)\n",
    "\n",
    "option=added_ten(number1,number2)\n",
    "print('Your 2 numbers added togther is: ',option)"
   ]
  },
  {
   "cell_type": "code",
   "execution_count": 16,
   "id": "8e84e6a9",
   "metadata": {},
   "outputs": [
    {
     "name": "stdout",
     "output_type": "stream",
     "text": [
      "Please enter first number: 10\n",
      "Value out of the function is  20\n"
     ]
    }
   ],
   "source": [
    "#global vaiables\n",
    "\n",
    "def added_ten():  \n",
    "    global number1\n",
    "    number1=number1+10\n",
    "    \n",
    "    return\n",
    "\n",
    "\n",
    "number1=int(input('Please enter first number: '))\n",
    "\n",
    "added_ten() #make sure to add the fucntion first here, then display after\n",
    "\n",
    "print('Value out of the function is ',number1)\n",
    "\n"
   ]
  },
  {
   "cell_type": "code",
   "execution_count": 19,
   "id": "db4aaf2e",
   "metadata": {},
   "outputs": [
    {
     "name": "stdout",
     "output_type": "stream",
     "text": [
      "Please enter first number: 10\n",
      "Value in the function is  20\n",
      "Value out of the function is  10\n"
     ]
    }
   ],
   "source": [
    "#using a local variable as a global variable\n",
    "\n",
    "def added_ten(number1):  #now number1 is in the function\n",
    "    #global number1\n",
    "    number1=number1+10\n",
    "    print('Value in the function is ',number1)\n",
    "    return  #here we never return anything\n",
    "\n",
    "\n",
    "number1=int(input('Please enter first number: '))\n",
    "\n",
    "added_ten(number1) #make sure to add the fucntion first here, then display after\n",
    "\n",
    "print('Value out of the function is ',number1) #the number will remain as it is becuase nothing was returned"
   ]
  },
  {
   "cell_type": "code",
   "execution_count": 20,
   "id": "6b8b2cda",
   "metadata": {},
   "outputs": [
    {
     "name": "stdout",
     "output_type": "stream",
     "text": [
      "Please enter first number: 10\n",
      "The answer is:  10.0\n"
     ]
    }
   ],
   "source": [
    "#lamda fucntions\n",
    "\n",
    "def f(y):\n",
    "    c=(y+10)/2\n",
    "    \n",
    "    return c\n",
    "    \n",
    "    \n",
    "x=int(input('Please enter first number: '))    \n",
    "    \n",
    "value=f(x)    #fucntion given to another variable\n",
    "\n",
    "print('The answer is: ',value)\n"
   ]
  },
  {
   "cell_type": "code",
   "execution_count": 23,
   "id": "4b26319c",
   "metadata": {},
   "outputs": [
    {
     "name": "stdout",
     "output_type": "stream",
     "text": [
      "Please enter first name: krishen\n",
      "Please enter second name: thoolsi\n",
      "Hello  Krishen Thoolsi\n"
     ]
    }
   ],
   "source": [
    "def adding_names(a,b):\n",
    "    \n",
    "    fullName= a.title()+' '+b.title()   #title() is a fucntion capitalizing the initials\n",
    "    \n",
    "    return fullName\n",
    "    \n",
    "    \n",
    "x=(input('Please enter first name: '))    \n",
    "y=(input('Please enter second name: '))     \n",
    "\n",
    "person=adding_names(x,y)\n",
    "\n",
    "print('Hello ',person)"
   ]
  },
  {
   "cell_type": "code",
   "execution_count": 9,
   "id": "6d57b51d",
   "metadata": {},
   "outputs": [
    {
     "name": "stdout",
     "output_type": "stream",
     "text": [
      "Please enter your start number: 1\n",
      "Please enter your end number: 10\n",
      "[3, 6, 9]\n"
     ]
    }
   ],
   "source": [
    "#using filter(function, sequence)\n",
    "def my_numbers(x):\n",
    "    \n",
    "    return (x%3==0)   #here remaineder must equal 0 when you divide any number in the range by 3\n",
    "    \n",
    "start=int(input('Please enter your start number: '))\n",
    "end=int(input('Please enter your end number: '))\n",
    "\n",
    "odds = filter(my_numbers,range(start,end))  #You use filter when it comes to ranges. The structure is below: \n",
    "                                            #filter(function, sequence)  chack slide 112\n",
    "print(list(odds))  #here we got to list all the values that was filtered out.\n",
    "\n",
    "#note that range(start,end) passes through my_numbers(x). Range here is your parameter.\n",
    "\n",
    "\n",
    "\n",
    "#The filter()method returns a sequence consisting of those elements for which the included function returns true, \n",
    "#those that satisfy the criteria given in the specified function."
   ]
  },
  {
   "cell_type": "code",
   "execution_count": 11,
   "id": "b143f5f8",
   "metadata": {},
   "outputs": [
    {
     "name": "stdout",
     "output_type": "stream",
     "text": [
      "Please enter your start number: 1\n",
      "Please enter your end number: 10\n",
      "[1, 4, 9, 16, 25, 36, 49, 64, 81, 100]\n"
     ]
    }
   ],
   "source": [
    "#using the map(function, sequence) function\n",
    "\n",
    "def square_numbers(x):\n",
    "    \n",
    "    return (x*x)\n",
    "\n",
    "\n",
    "start=int(input('Please enter your start number: '))\n",
    "end=int(input('Please enter your end number: '))\n",
    "\n",
    "squared=map(square_numbers,range(start,end+1))  #Note that range(start,end+1) passes through fucntion square_numbers(x)\n",
    "\n",
    "print(list(squared)) #Note that list her must be used for both filter and map fucntions to lsit all the values after the\n",
    "                     #fucntion.\n",
    "    \n",
    "#In this example, the map()method includes a square()function and a range() meth\n",
    "#map is used when youn want to get a number to the power for each value in the range\n"
   ]
  },
  {
   "cell_type": "code",
   "execution_count": 16,
   "id": "1003d0ee",
   "metadata": {},
   "outputs": [
    {
     "name": "stdout",
     "output_type": "stream",
     "text": [
      "[2, 5, 98, 789, 58]\n"
     ]
    }
   ],
   "source": [
    "#map() converts into integers\n",
    "\n",
    "k=map(int,[2.3, 5.9,98,789.3,58])   #you can change the int part to anything you want it to convert to\n",
    "\n",
    "print(list(k))"
   ]
  },
  {
   "cell_type": "code",
   "execution_count": 18,
   "id": "0ed95d09",
   "metadata": {},
   "outputs": [
    {
     "name": "stdout",
     "output_type": "stream",
     "text": [
      "Enter starting value: 1\n",
      "Enter ending value: 10\n",
      "55\n"
     ]
    }
   ],
   "source": [
    "#using the reduce() fucntion which adds all the numbers togther in the sequence\n",
    "\n",
    "import functools    #note you need to import the functools\n",
    "def my_numbers(x,y):\n",
    "    \n",
    "    return x+y\n",
    "    \n",
    "start=int(input('Enter starting value: '))\n",
    "end=int(input('Enter ending value: '))\n",
    "\n",
    "values=functools.reduce(my_numbers, range(start,end+1))    #note functools.reduce()\n",
    "\n",
    "print(values) #here you dint need a list fucntion to list the values\n",
    "\n",
    "#The functools module is imported at the top because the reduce()\n",
    "#becuase the reduce function is defined in the \n"
   ]
  },
  {
   "cell_type": "code",
   "execution_count": 25,
   "id": "cd1aae4c",
   "metadata": {},
   "outputs": [
    {
     "name": "stdout",
     "output_type": "stream",
     "text": [
      "Sum is 30\n",
      "The documentation string is None\n",
      "The function name is sum\n",
      "The default values of the function are (5,)\n",
      "The code object of the function is <code object sum at 0x000001A8359A07C0, file \"C:\\Users\\krish\\AppData\\Local\\Temp\\ipykernel_17088\\1704716732.py\", line 3>\n",
      "The dictionary of the function is {'version': '1.0', 'author': 'bintu'}\n"
     ]
    }
   ],
   "source": [
    "#function attributes is on slide 115\n",
    "\n",
    "#from the textbook\n",
    "def sum(a, b=5):\n",
    "    \n",
    "    return (a + b)    #Adds the two numbers \n",
    "\n",
    "\n",
    "sum.version= \"1.0\" \n",
    "sum.author= \"bintu\" \n",
    "k=sum(10,20)\n",
    "print ('Sum is', k)\n",
    "print('The documentation string is', sum.__doc__)\n",
    "print('The function name is', sum.__name__)\n",
    "print('The default values of the function are', sum.__defaults__)\n",
    "print('The code object of the function is', sum.__code__)\n",
    "print('The dictionary of the function is', sum.__dict__)"
   ]
  },
  {
   "cell_type": "code",
   "execution_count": 2,
   "id": "b2f5b2c7",
   "metadata": {},
   "outputs": [
    {
     "name": "stdout",
     "output_type": "stream",
     "text": [
      "Please enter your first number: 20\n",
      "Please enter your second number: 30\n",
      "The sum is:  50\n",
      "The documentation string is:  None\n",
      "The fucntion name is:  add\n",
      "The module of the fucntion is:  __main__\n",
      "The defaults of the fucntion is:  (10,)\n",
      "The code of the fucntion is:  <code object add at 0x0000026FF78DF450, file \"C:\\Users\\krish\\AppData\\Local\\Temp\\ipykernel_7892\\2059487825.py\", line 4>\n",
      "The attributes in the fucntion are:  {'version': '5.9', 'writer': 'Krishen'}\n"
     ]
    }
   ],
   "source": [
    "#my own attributes\n",
    "#each attribute is given its own fucntion of how it must be written on page \n",
    "\n",
    "def add(x,y=10):\n",
    "    c=x+y\n",
    "    return c\n",
    "\n",
    "\n",
    "add.version=\"5.9\"\n",
    "add.writer=\"Krishen\"\n",
    "\n",
    "e=int(input('Please enter your first number: ')) \n",
    "f=int(input('Please enter your second number: ')) \n",
    "\n",
    "sum=add(e,f)\n",
    "\n",
    "print('The sum is: ', sum)\n",
    "print('The documentation string is: ', add.__doc__)     #fucntionname.__attribute__\n",
    "print('The fucntion name is: ', add.__name__)\n",
    "print('The module of the fucntion is: ', add.__module__)\n",
    "print('The defaults of the fucntion is: ', add.__defaults__)\n",
    "print('The code of the fucntion is: ', add.__code__)\n",
    "print('The attributes in the fucntion are: ', add.__dict__)\n"
   ]
  },
  {
   "cell_type": "code",
   "execution_count": 41,
   "id": "0cae99a3",
   "metadata": {},
   "outputs": [
    {
     "name": "stdout",
     "output_type": "stream",
     "text": [
      "The end of the range you would like to have: 10\n",
      "The total of the range is:  55\n"
     ]
    }
   ],
   "source": [
    "#Recursion slide 117\n",
    "#When implementing recursion, an exit condition must be included in the function.\n",
    "#Recursion is implemented with the help of a structure known as a stack.\n",
    "\n",
    "def adding_range(x):\n",
    "    if x==1:\n",
    "        return 1\n",
    "    else:\n",
    "        return x+adding_range(x-1)\n",
    "    \n",
    "\n",
    "    \n",
    "\n",
    "number=int(input('The end of the range you would like to have: '))\n",
    "\n",
    "total=adding_range(number)\n",
    "\n",
    "print('The total of the range is: ', total)\n",
    "\n",
    "#In the body of the function, you see that the first line defines the exit condition. \n",
    "\n",
    "#The else statement calls the adding_range() function recursively\n",
    "\n",
    "#This function of recursion adds numbers from 1 till the end of the range. \n"
   ]
  },
  {
   "cell_type": "code",
   "execution_count": 44,
   "id": "4409328c",
   "metadata": {},
   "outputs": [
    {
     "name": "stdout",
     "output_type": "stream",
     "text": [
      "The end of the range you would like to have: 10\n",
      "The factoial of the range is:  3628800\n"
     ]
    }
   ],
   "source": [
    "#Recursion slide 117 by getting the factorial\n",
    "\n",
    "\n",
    "def factoral_range(x):\n",
    "    if x==1:\n",
    "        return 1\n",
    "    else:\n",
    "        return x*factoral_range(x-1)\n",
    "    \n",
    "number=int(input('The end of the range you would like to have: '))\n",
    "\n",
    "total=factoral_range(number)\n",
    "\n",
    "print('The factoial of the range is: ', total)\n",
    "\n",
    "#This recursion mulitplies each value until the end of the range."
   ]
  },
  {
   "cell_type": "code",
   "execution_count": 48,
   "id": "ae022956",
   "metadata": {},
   "outputs": [
    {
     "name": "stdout",
     "output_type": "stream",
     "text": [
      "Krishen\n",
      "Tom\n",
      "Ford\n",
      "Jesse\n"
     ]
    },
    {
     "data": {
      "text/plain": [
       "StopIteration"
      ]
     },
     "execution_count": 48,
     "metadata": {},
     "output_type": "execute_result"
    }
   ],
   "source": [
    "#iterator \n",
    "#iterators are used for looping through collections of data slide 120\n",
    "#iter() function is used here\n",
    "#An iterator has a next() method that can be called to get each value in the sequence\n",
    "#The iter(object) method calls that object’s __iter__ method to get an iterator object\n",
    "\n",
    "names=['Krishen','Tom','Ford','Jesse']\n",
    "\n",
    "i=iter(names)   #the list of names has to be called in iter() function like this.\n",
    "\n",
    "print(i.__next__())\n",
    "print(i.__next__())\n",
    "print(i.__next__())\n",
    "print(i.__next__())\n",
    "StopIteration    #this is how you stop the iteration\n"
   ]
  },
  {
   "cell_type": "code",
   "execution_count": 49,
   "id": "da4feb39",
   "metadata": {},
   "outputs": [
    {
     "name": "stdout",
     "output_type": "stream",
     "text": [
      "The list of fruits is:\n",
      "Apple\n",
      "Orange\n",
      "Mango\n",
      "Banana\n",
      "The list of fruits is:\n",
      "Apple\n",
      "Orange\n",
      "Mango\n",
      "Banana\n"
     ]
    }
   ],
   "source": [
    "#Generator slide 121\n",
    "#A generator is a function that creates an iterator\n",
    "#For a function to become a generator, it must return a value using the yield keyword\n",
    "\n",
    "#The yield statement is used only when defining a generator function and is used only in the body of the generator function\n",
    "\n",
    "#the presence of a yield statement in a normal function definition converts it into a generator function.\n",
    "\n",
    "def fruits(seq):\n",
    "    for fruit in seq:\n",
    "        yield '%s' % fruit   #the reserve word yield is used here\n",
    "            \n",
    "        \n",
    "f=fruits(['Apple', 'Orange', 'Mango', 'Banana' ])\n",
    "\n",
    "\n",
    "print ('The list of fruits is:' )\n",
    "print (f.__next__())\n",
    "print (f.__next__())\n",
    "print (f.__next__())\n",
    "print (f.__next__())\n",
    "\n",
    "\n",
    "\n",
    "f=fruits(['Apple', 'Orange', 'Mango', 'Banana' ]) \n",
    "print ('The list of fruits is:' )\n",
    "for x in f: \n",
    "    print (x)"
   ]
  },
  {
   "cell_type": "code",
   "execution_count": 59,
   "id": "c2564538",
   "metadata": {},
   "outputs": [
    {
     "name": "stdout",
     "output_type": "stream",
     "text": [
      "Please enter your end number for the loop to end and square all you numbers: 10\n",
      "The squares of first five sequence numbers\n",
      "0\n",
      "1\n",
      "4\n",
      "9\n",
      "16\n",
      "25\n",
      "36\n",
      "49\n",
      "64\n",
      "81\n"
     ]
    }
   ],
   "source": [
    "#there is one more way to create a generator\n",
    "#A generator expression is an expression in parentheses that creates an iterator object\n",
    "\n",
    "def squarenum(x):\n",
    "    return x*x\n",
    "\n",
    "\n",
    "end=int(input('Please enter your end number for the loop to end and square all you numbers: '))\n",
    "\n",
    "iteratorobj = (squarenum(x) for x in range(end))   #(squarenum(x) for x in range(6)) is your generator expression\n",
    "print('The squares of first five sequence numbers')\n",
    "print (iteratorobj.__next__())\n",
    "print (iteratorobj.__next__())\n",
    "print (iteratorobj.__next__())\n",
    "print (iteratorobj.__next__())\n",
    "print (iteratorobj.__next__())\n",
    "print (iteratorobj.__next__())\n",
    "print (iteratorobj.__next__())\n",
    "print (iteratorobj.__next__())\n",
    "print (iteratorobj.__next__())\n",
    "print (iteratorobj.__next__())\n",
    "\n",
    "\n",
    "\n",
    "#this is the square of each number starting from 0 sqaured and so on\n"
   ]
  },
  {
   "cell_type": "code",
   "execution_count": 52,
   "id": "fd6ead64",
   "metadata": {},
   "outputs": [
    {
     "name": "stdout",
     "output_type": "stream",
     "text": [
      "Please input the year: 2023\n",
      "                                  2023\n",
      "\n",
      "      January                   February                   March\n",
      "Mo Tu We Th Fr Sa Su      Mo Tu We Th Fr Sa Su      Mo Tu We Th Fr Sa Su\n",
      "                   1             1  2  3  4  5             1  2  3  4  5\n",
      " 2  3  4  5  6  7  8       6  7  8  9 10 11 12       6  7  8  9 10 11 12\n",
      " 9 10 11 12 13 14 15      13 14 15 16 17 18 19      13 14 15 16 17 18 19\n",
      "16 17 18 19 20 21 22      20 21 22 23 24 25 26      20 21 22 23 24 25 26\n",
      "23 24 25 26 27 28 29      27 28                     27 28 29 30 31\n",
      "30 31\n",
      "\n",
      "       April                      May                       June\n",
      "Mo Tu We Th Fr Sa Su      Mo Tu We Th Fr Sa Su      Mo Tu We Th Fr Sa Su\n",
      "                1  2       1  2  3  4  5  6  7                1  2  3  4\n",
      " 3  4  5  6  7  8  9       8  9 10 11 12 13 14       5  6  7  8  9 10 11\n",
      "10 11 12 13 14 15 16      15 16 17 18 19 20 21      12 13 14 15 16 17 18\n",
      "17 18 19 20 21 22 23      22 23 24 25 26 27 28      19 20 21 22 23 24 25\n",
      "24 25 26 27 28 29 30      29 30 31                  26 27 28 29 30\n",
      "\n",
      "        July                     August                  September\n",
      "Mo Tu We Th Fr Sa Su      Mo Tu We Th Fr Sa Su      Mo Tu We Th Fr Sa Su\n",
      "                1  2          1  2  3  4  5  6                   1  2  3\n",
      " 3  4  5  6  7  8  9       7  8  9 10 11 12 13       4  5  6  7  8  9 10\n",
      "10 11 12 13 14 15 16      14 15 16 17 18 19 20      11 12 13 14 15 16 17\n",
      "17 18 19 20 21 22 23      21 22 23 24 25 26 27      18 19 20 21 22 23 24\n",
      "24 25 26 27 28 29 30      28 29 30 31               25 26 27 28 29 30\n",
      "31\n",
      "\n",
      "      October                   November                  December\n",
      "Mo Tu We Th Fr Sa Su      Mo Tu We Th Fr Sa Su      Mo Tu We Th Fr Sa Su\n",
      "                   1             1  2  3  4  5                   1  2  3\n",
      " 2  3  4  5  6  7  8       6  7  8  9 10 11 12       4  5  6  7  8  9 10\n",
      " 9 10 11 12 13 14 15      13 14 15 16 17 18 19      11 12 13 14 15 16 17\n",
      "16 17 18 19 20 21 22      20 21 22 23 24 25 26      18 19 20 21 22 23 24\n",
      "23 24 25 26 27 28 29      27 28 29 30               25 26 27 28 29 30 31\n",
      "30 31\n"
     ]
    }
   ],
   "source": [
    "#importing modules\n",
    "#here we will import calendar\n",
    "\n",
    "from calendar import*    #this is how we import. We can also import using the following statements:\n",
    "                         #calendar.prcal() or\n",
    "                         #from calendar import prcal  or\n",
    "                        \n",
    "\n",
    "year=int(input('Please input the year: '))\n",
    "\n",
    "prcal(year) #printing calandar\n",
    "\n",
    "\n",
    "\n",
    "\n",
    "\n",
    "#A module is a file consisting of a few functions and variables used for a particular task\n"
   ]
  },
  {
   "cell_type": "code",
   "execution_count": 61,
   "id": "b94af9bb",
   "metadata": {},
   "outputs": [
    {
     "name": "stdout",
     "output_type": "stream",
     "text": [
      "8\n",
      "-7\n",
      "7\n",
      "-8\n"
     ]
    }
   ],
   "source": [
    "#import math\n",
    "\n",
    "#the math module contains not only common trigonometric functions but also several constants and function slide 126\n",
    "#math.pi—Returns the value of pi, 3.1415926535897931. \n",
    "#math.e—Returns the value of e, 2.7182818284590451. \n",
    "#ceil(x)—Displays the next larger whole number.\n",
    "#floor(x)—Displays the next smaller whole number\n",
    "\n",
    "import math\n",
    "\n",
    "print(math.ceil(7.3))\n",
    "print(math.ceil(-7.3))\n",
    "print(math.floor(7.9))\n",
    "print(math.floor(-7.9))\n",
    "\n",
    "# you import the math module and use its ceil() and floor() methods to display the next larger and smaller whole numbers.\n",
    "#We just showing rounding up here."
   ]
  },
  {
   "cell_type": "code",
   "execution_count": null,
   "id": "b8b34fbe",
   "metadata": {},
   "outputs": [],
   "source": []
  }
 ],
 "metadata": {
  "kernelspec": {
   "display_name": "Python 3 (ipykernel)",
   "language": "python",
   "name": "python3"
  },
  "language_info": {
   "codemirror_mode": {
    "name": "ipython",
    "version": 3
   },
   "file_extension": ".py",
   "mimetype": "text/x-python",
   "name": "python",
   "nbconvert_exporter": "python",
   "pygments_lexer": "ipython3",
   "version": "3.9.13"
  }
 },
 "nbformat": 4,
 "nbformat_minor": 5
}
