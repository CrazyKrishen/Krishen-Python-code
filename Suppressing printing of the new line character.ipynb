{
 "cells": [
  {
   "cell_type": "code",
   "execution_count": 4,
   "id": "007ae4ff",
   "metadata": {},
   "outputs": [
    {
     "name": "stdout",
     "output_type": "stream",
     "text": [
      "Its hot today. It also might rain later! \n"
     ]
    }
   ],
   "source": [
    "#Suppressing printing of the new line character using end=‘ ’ and (,)\n",
    "#Suppressing means putting it in one line in the print() function\n",
    "#instead of it going to a new line.\n",
    "\n",
    "print(\"Its hot today.\", end=' ')\n",
    "print(\"It also might rain later! \")\n",
    "\n"
   ]
  },
  {
   "cell_type": "code",
   "execution_count": null,
   "id": "04f3164e",
   "metadata": {},
   "outputs": [],
   "source": []
  }
 ],
 "metadata": {
  "kernelspec": {
   "display_name": "Python 3 (ipykernel)",
   "language": "python",
   "name": "python3"
  },
  "language_info": {
   "codemirror_mode": {
    "name": "ipython",
    "version": 3
   },
   "file_extension": ".py",
   "mimetype": "text/x-python",
   "name": "python",
   "nbconvert_exporter": "python",
   "pygments_lexer": "ipython3",
   "version": "3.9.13"
  }
 },
 "nbformat": 4,
 "nbformat_minor": 5
}
