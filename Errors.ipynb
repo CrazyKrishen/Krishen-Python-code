{
 "cells": [
  {
   "cell_type": "code",
   "execution_count": 1,
   "id": "b1b0296c",
   "metadata": {},
   "outputs": [
    {
     "ename": "SyntaxError",
     "evalue": "invalid syntax (2626725158.py, line 1)",
     "output_type": "error",
     "traceback": [
      "\u001b[1;36m  File \u001b[1;32m\"C:\\Users\\krish\\AppData\\Local\\Temp\\ipykernel_17112\\2626725158.py\"\u001b[1;36m, line \u001b[1;32m1\u001b[0m\n\u001b[1;33m    nstart=int(input('enter the start number : '))nend=int(input('enter the end number : '))for icount in range (nstart, nend, 1):    if (icount%2 ==0):        print(icount)\u001b[0m\n\u001b[1;37m                                                  ^\u001b[0m\n\u001b[1;31mSyntaxError\u001b[0m\u001b[1;31m:\u001b[0m invalid syntax\n"
     ]
    }
   ],
   "source": [
    "nstart=int(input('enter the start number : '))nend=int(input('enter the end number : '))for icount in range (nstart, nend, 1):    if (icount%2 ==0):        print(icount)"
   ]
  },
  {
   "cell_type": "code",
   "execution_count": 2,
   "id": "8ce3d498",
   "metadata": {},
   "outputs": [],
   "source": [
    "nTotal=0#student number has 8 digits!for icount in range (1,9,1):    ndigit=int(input('enter the next digit in your student number : '))    nTotal = nTotal + ndigitprint('the total is : ', nTotal)"
   ]
  },
  {
   "cell_type": "code",
   "execution_count": 3,
   "id": "e1fc4236",
   "metadata": {},
   "outputs": [
    {
     "name": "stdout",
     "output_type": "stream",
     "text": [
      "Object `istart=3iend=10for icount in range(istart,iend,5):    print(icount)` not found.\n"
     ]
    }
   ],
   "source": [
    "?istart=3iend=10for icount in range(istart,iend,5):    print(icount)"
   ]
  },
  {
   "cell_type": "code",
   "execution_count": 4,
   "id": "a2ffa39f",
   "metadata": {},
   "outputs": [
    {
     "ename": "SyntaxError",
     "evalue": "invalid syntax (1646737466.py, line 1)",
     "output_type": "error",
     "traceback": [
      "\u001b[1;36m  File \u001b[1;32m\"C:\\Users\\krish\\AppData\\Local\\Temp\\ipykernel_17112\\1646737466.py\"\u001b[1;36m, line \u001b[1;32m1\u001b[0m\n\u001b[1;33m    nstart=int(input('enter the start number : '))nend=int(input('enter the end number : '))for icount in range (nstart, nend, 1):    if (icount%2 !=0):        print(icount)\u001b[0m\n\u001b[1;37m                                                  ^\u001b[0m\n\u001b[1;31mSyntaxError\u001b[0m\u001b[1;31m:\u001b[0m invalid syntax\n"
     ]
    }
   ],
   "source": [
    "nstart=int(input('enter the start number : '))nend=int(input('enter the end number : '))for icount in range (nstart, nend, 1):    if (icount%2 !=0):        print(icount)"
   ]
  },
  {
   "cell_type": "code",
   "execution_count": null,
   "id": "5d329efe",
   "metadata": {},
   "outputs": [],
   "source": []
  }
 ],
 "metadata": {
  "kernelspec": {
   "display_name": "Python 3 (ipykernel)",
   "language": "python",
   "name": "python3"
  },
  "language_info": {
   "codemirror_mode": {
    "name": "ipython",
    "version": 3
   },
   "file_extension": ".py",
   "mimetype": "text/x-python",
   "name": "python",
   "nbconvert_exporter": "python",
   "pygments_lexer": "ipython3",
   "version": "3.9.13"
  }
 },
 "nbformat": 4,
 "nbformat_minor": 5
}
