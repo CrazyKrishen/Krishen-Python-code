{
 "cells": [
  {
   "cell_type": "code",
   "execution_count": 3,
   "id": "459c6bd3",
   "metadata": {},
   "outputs": [
    {
     "name": "stdout",
     "output_type": "stream",
     "text": [
      "How many lines you like to append: 3\n",
      "Please enter the name you want your file to be: three.txt\n",
      "Enter sentence/word: avo\n",
      "Enter sentence/word: grape\n",
      "Enter sentence/word: love rocks\n",
      "\n",
      "apple\n",
      "banana\n",
      "pear\n",
      "avo\n",
      "grape\n",
      "love rocks\n"
     ]
    }
   ],
   "source": [
    "#appending to a file\n",
    "\n",
    "number=int(input('How many lines you like to append: '))\n",
    "\n",
    "fileName=input('Please enter the name you want your file to be: ')\n",
    "\n",
    "#open file\n",
    "p=open(fileName,'a')   #Here we use 'a' for appending\n",
    "\n",
    "for i in range(0,number):\n",
    "    words=input('Enter sentence/word: ')\n",
    "    \n",
    "    #writing the words to the file\n",
    "    p.write(\"\\n%s\" %words)\n",
    "\n",
    "p.close()\n",
    "\n",
    "\n",
    "#just reading from the file\n",
    "v=open(fileName) \n",
    "\n",
    "#reading the appended file\n",
    "info=v.read()\n",
    "\n",
    "print(info)\n"
   ]
  },
  {
   "cell_type": "code",
   "execution_count": null,
   "id": "bfadc207",
   "metadata": {},
   "outputs": [],
   "source": []
  }
 ],
 "metadata": {
  "kernelspec": {
   "display_name": "Python 3 (ipykernel)",
   "language": "python",
   "name": "python3"
  },
  "language_info": {
   "codemirror_mode": {
    "name": "ipython",
    "version": 3
   },
   "file_extension": ".py",
   "mimetype": "text/x-python",
   "name": "python",
   "nbconvert_exporter": "python",
   "pygments_lexer": "ipython3",
   "version": "3.9.13"
  }
 },
 "nbformat": 4,
 "nbformat_minor": 5
}
