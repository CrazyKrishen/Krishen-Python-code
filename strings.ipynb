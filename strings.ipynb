{
 "cells": [
  {
   "cell_type": "code",
   "execution_count": 3,
   "id": "579c166d",
   "metadata": {},
   "outputs": [
    {
     "name": "stdout",
     "output_type": "stream",
     "text": [
      "Combined togther is:  KrishenThoosi\n"
     ]
    }
   ],
   "source": [
    "#concatenate strings\n",
    "#combining two separate words to form one word\n",
    "word1='Krishen'\n",
    "word2='Thoosi'\n",
    "\n",
    "total=word1+word2\n",
    "\n",
    "print('Combined togther is: ',total)"
   ]
  },
  {
   "cell_type": "code",
   "execution_count": 18,
   "id": "21bdc853",
   "metadata": {},
   "outputs": [
    {
     "name": "stdout",
     "output_type": "stream",
     "text": [
      "Day- 22 Month- April Year- 1998\n"
     ]
    }
   ],
   "source": [
    "#using numbers and strings togther\n",
    "day=22\n",
    "month='April'\n",
    "year=1998\n",
    "\n",
    "print('Day- %d Month- %s Year- %d' %(day,month,year))    #%d- is for number\n",
    "                                                         #%s- is for strings"
   ]
  },
  {
   "cell_type": "code",
   "execution_count": 20,
   "id": "63560210",
   "metadata": {},
   "outputs": [
    {
     "name": "stdout",
     "output_type": "stream",
     "text": [
      "Please enter a date: 30\n",
      "Please enter a month: May\n",
      "Please enter a year: 2003\n",
      "Date-30,  Month-May, Year-2003 \n"
     ]
    }
   ],
   "source": [
    "#now we ask the user to enter the values of month,day and date\n",
    "\n",
    "date=int(input('Please enter a date: '))\n",
    "month=input('Please enter a month: ')\n",
    "year=int(input('Please enter a year: '))\n",
    "\n",
    "print('Date-%d,  Month-%s, Year-%d ' %(date, month, year))"
   ]
  },
  {
   "cell_type": "code",
   "execution_count": 22,
   "id": "7a8914bb",
   "metadata": {},
   "outputs": [
    {
     "name": "stdout",
     "output_type": "stream",
     "text": [
      "Please enter a sentence: Krishen told Teddy to buy a skateboard called Tony Hawk\n",
      "Original sentence:  Krishen told Teddy to buy a skateboard called Tony Hawk\n",
      "Swapping the capital and small letters around:  kRISHEN TOLD tEDDY TO BUY A SKATEBOARD CALLED tONY hAWK\n",
      "Every letter in CAPS:  KRISHEN TOLD TEDDY TO BUY A SKATEBOARD CALLED TONY HAWK\n",
      "Evey letter in all small letters:  krishen told teddy to buy a skateboard called tony hawk\n",
      "The word count including spaces is:  55\n"
     ]
    }
   ],
   "source": [
    "#new functions to learn in python\n",
    "\n",
    "sentence=input('Please enter a sentence: ')\n",
    "\n",
    "print('Original sentence: ',sentence)  #shows original sentence\n",
    "\n",
    "print('Swapping the capital and small letters around: ', sentence.swapcase())\n",
    "\n",
    "#variable.swapcase() is a fucntion that swaps around capital and small letters\n",
    "\n",
    "print('Every letter in CAPS: ', sentence.upper())\n",
    "\n",
    "#variable.upper() is a function that capitalizes every letter of the sentence.\n",
    "\n",
    "print('Evey letter in all small letters: ', sentence.lower())\n",
    "\n",
    "#vairable.lower() is a funtion that lowers every letter\n",
    "\n",
    "print('The word count including spaces is: ', len(sentence))\n",
    "#len(variable) is a function that shows the length of all the words in the sentence or word"
   ]
  },
  {
   "cell_type": "code",
   "execution_count": 23,
   "id": "3d14bb27",
   "metadata": {},
   "outputs": [
    {
     "name": "stdout",
     "output_type": "stream",
     "text": [
      "Please enter a sentence or word: xxx\n",
      "Please enter your second sentence or word: ABCDE\n",
      "xxxxxxxxx\n",
      "The combination is:  AxxxBxxxCxxxDxxxE\n"
     ]
    }
   ],
   "source": [
    "#here we will muliply the strong 3 times and join it with a new string using a fuction\n",
    "\n",
    "sentence=input('Please enter a sentence or word: ')\n",
    "word=input('Please enter your second sentence or word: ')\n",
    "\n",
    "print(sentence*3)  #the word or sentence repeats 3 times\n",
    "print('The combination is: ',sentence.join(word))  #its joins 'word' to 'sentence'\n"
   ]
  },
  {
   "cell_type": "code",
   "execution_count": 26,
   "id": "2711a012",
   "metadata": {},
   "outputs": [
    {
     "name": "stdout",
     "output_type": "stream",
     "text": [
      "Please enter a string: We would be doomed!\n",
      "Please enter a letter to find in the string: W\n",
      "The amount of W letters in the string is:  2\n"
     ]
    }
   ],
   "source": [
    "s=input('Please enter a string: ')\n",
    "myletter=input('Please enter a letter to find in the string: ')\n",
    "\n",
    "final=len(s) #get total length on the first string\n",
    "\n",
    "w=s.count(myletter.lower(),0,final)+ s.count(myletter.upper(),0,final)   \n",
    "#vairable.count(letter to find, start of string, end of string) is a funtion that counts the given letter in the string \n",
    "#variable.upper() is used to capitalize the letter\n",
    "#variable.lower() is used to lower the letter\n",
    "\n",
    "print('The amount of',myletter,'letters in the string is: ', w)"
   ]
  },
  {
   "cell_type": "code",
   "execution_count": 4,
   "id": "cedb1d02",
   "metadata": {},
   "outputs": [
    {
     "name": "stdout",
     "output_type": "stream",
     "text": [
      "Please enter your country: south africa\n",
      "Swapped around would be:  africa south\n"
     ]
    }
   ],
   "source": [
    "#swapping 2 words around\n",
    "\n",
    "country=input('Please enter your country: ')\n",
    "\n",
    "l=country.partition(' ')  #variable.partition(' ') is splitting the two words and from the space' '\n",
    "                          #The variable l is split into l[2] and l[0].\n",
    "    \n",
    "print('Swapped around would be: ',l[2], l[0])  #You must not forget to split the l into l[2] and l[0]\n",
    "\n",
    "#Partitions and returns the string in three\n",
    "#parts: the text prior to the first occurrence of\n",
    "#separatorin the string, the separator, and\n",
    "#the text after the first occurrence of the\n",
    "#separator. If the separator doesn’t occur, the\n",
    "#complete string is returned as the first part,\n",
    "#and the other parts are returned as empty strings.\n",
    "\n",
    "#So here l[0]=first word of the string\n",
    "#l[1]=space after the firt word\n",
    "#l[2]=the word after the space"
   ]
  },
  {
   "cell_type": "code",
   "execution_count": 5,
   "id": "d0c867d9",
   "metadata": {},
   "outputs": [
    {
     "name": "stdout",
     "output_type": "stream",
     "text": [
      "Please enter a sentence: tom is a bully\n",
      "Please enter a word to find in the string: bully\n",
      "Word is in the sentence!\n"
     ]
    }
   ],
   "source": [
    "#Determining if the substring is found in the string\n",
    "\n",
    "sentence=input('Please enter a sentence: ')\n",
    "word=input('Please enter a word to find in the string: ')\n",
    "\n",
    "if(word in sentence):\n",
    "    print('Word is in the sentence!')\n",
    "    \n",
    "else:\n",
    "    print('Word is not in the sentence!')\n",
    "        "
   ]
  },
  {
   "cell_type": "code",
   "execution_count": 6,
   "id": "e80bc9ff",
   "metadata": {},
   "outputs": [
    {
     "name": "stdout",
     "output_type": "stream",
     "text": [
      "Please enter a sentence: Tom is a bum\n",
      "Please enter a word to find in the string: bum\n",
      "Word is in the sentence\n"
     ]
    }
   ],
   "source": [
    "#Determining if the substring is found in the string using .find()function\n",
    "\n",
    "sentence=input('Please enter a sentence: ')\n",
    "word=input('Please enter a word to find in the string: ')\n",
    "\n",
    "number=sentence.find(word)  #sentence.find(word) is used to find the 'word' in the sentence\n",
    "\n",
    "if(number==-1):\n",
    "    print('Word is not in the sentence!')\n",
    "else:\n",
    "    print('Word is in the sentence')"
   ]
  },
  {
   "cell_type": "code",
   "execution_count": 8,
   "id": "76a47fb2",
   "metadata": {},
   "outputs": [
    {
     "name": "stdout",
     "output_type": "stream",
     "text": [
      "Enter 4 assignment results\n",
      "Enter mark: 12\n",
      "Enter mark: 36\n",
      "Enter mark: 50\n",
      "Enter mark: 100\n",
      "Number of array in the variable assign:  [12, 36, 50, 100]\n",
      "12\n",
      "36\n",
      "50\n",
      "100\n"
     ]
    }
   ],
   "source": [
    "#numerical arrays\n",
    "\n",
    "print('Enter 4 assignment results')\n",
    "\n",
    "assign=[0 for i in range(4)]\n",
    "\n",
    "#array input\n",
    "for count in range(4):\n",
    "    assign[count]=int(input('Enter mark: '))\n",
    "    \n",
    "print('Number of array in the variable assign: ',assign)\n",
    "\n",
    "for e in assign:\n",
    "    print(e)"
   ]
  },
  {
   "cell_type": "code",
   "execution_count": 13,
   "id": "4e5214df",
   "metadata": {},
   "outputs": [
    {
     "name": "stdout",
     "output_type": "stream",
     "text": [
      "The first name is:  banana\n",
      "The last name is:  peach\n",
      "The list will be:\n",
      "banana\n",
      "apple\n",
      "pear\n",
      "peach\n"
     ]
    }
   ],
   "source": [
    "#lists of elements\n",
    "\n",
    "names=['banana', 'apple', 'pear', 'peach']\n",
    "\n",
    "print('The first name is: ', names[0])\n",
    "print('The last name is: ', names[-1])\n",
    "\n",
    "print('The list will be:')\n",
    "for a in names:\n",
    "    print(a)"
   ]
  },
  {
   "cell_type": "code",
   "execution_count": 16,
   "id": "f47eb62e",
   "metadata": {},
   "outputs": [
    {
     "name": "stdout",
     "output_type": "stream",
     "text": [
      "The first name is:  Krishen\n",
      "The last name is:  Tom\n",
      "Krishen\n",
      "Brandon\n",
      "Jesse\n",
      "Tom\n"
     ]
    }
   ],
   "source": [
    "names=['Krishen', 'Brandon', 'Jesse', 'Tom']\n",
    "\n",
    "print('The first name is: ', names[0])\n",
    "print('The last name is: ', names[-1])\n",
    "\n",
    "for i in range(0,len(names)):\n",
    "    print(names[i])"
   ]
  },
  {
   "cell_type": "code",
   "execution_count": 1,
   "id": "a218cc9d",
   "metadata": {},
   "outputs": [
    {
     "name": "stdout",
     "output_type": "stream",
     "text": [
      "Please enter a your string: ABCDEFGHIJK\n",
      "Your maximum is:  K\n",
      "You minimum is:  A\n"
     ]
    }
   ],
   "source": [
    "#using the max and min funtions\n",
    "\n",
    "a=input('Please enter a your string: ')\n",
    "\n",
    "print('Your maximum is: ',max(a))\n",
    "#maximum returns the letter thats futhest\n",
    "\n",
    "print('You minimum is: ',min(a))"
   ]
  },
  {
   "cell_type": "code",
   "execution_count": null,
   "id": "f7958f35",
   "metadata": {},
   "outputs": [],
   "source": []
  }
 ],
 "metadata": {
  "kernelspec": {
   "display_name": "Python 3 (ipykernel)",
   "language": "python",
   "name": "python3"
  },
  "language_info": {
   "codemirror_mode": {
    "name": "ipython",
    "version": 3
   },
   "file_extension": ".py",
   "mimetype": "text/x-python",
   "name": "python",
   "nbconvert_exporter": "python",
   "pygments_lexer": "ipython3",
   "version": "3.9.13"
  }
 },
 "nbformat": 4,
 "nbformat_minor": 5
}
