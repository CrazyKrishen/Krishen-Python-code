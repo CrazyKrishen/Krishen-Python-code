{
 "cells": [
  {
   "cell_type": "code",
   "execution_count": 1,
   "id": "b511a2a6",
   "metadata": {},
   "outputs": [
    {
     "name": "stdout",
     "output_type": "stream",
     "text": [
      "Please enter files name: competition.txt\n",
      "\n",
      "apple tart\n",
      "banana tart\n",
      "peach tart\n"
     ]
    }
   ],
   "source": [
    "#reading the whole file \n",
    "\n",
    "\n",
    "#Step1 get info\n",
    "fileName=input('Please enter files name: ')\n",
    "\n",
    "#Step2 open file   'r' stands for read\n",
    "z=open(fileName, 'r')\n",
    "\n",
    "#read the info into a variable (information)\n",
    "information = z.read()\n",
    "\n",
    "print(information)\n",
    "\n",
    "z.close()\n"
   ]
  },
  {
   "cell_type": "code",
   "execution_count": null,
   "id": "fc551036",
   "metadata": {},
   "outputs": [],
   "source": []
  }
 ],
 "metadata": {
  "kernelspec": {
   "display_name": "Python 3 (ipykernel)",
   "language": "python",
   "name": "python3"
  },
  "language_info": {
   "codemirror_mode": {
    "name": "ipython",
    "version": 3
   },
   "file_extension": ".py",
   "mimetype": "text/x-python",
   "name": "python",
   "nbconvert_exporter": "python",
   "pygments_lexer": "ipython3",
   "version": "3.9.13"
  }
 },
 "nbformat": 4,
 "nbformat_minor": 5
}
