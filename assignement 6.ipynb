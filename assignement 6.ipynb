{
 "cells": [
  {
   "cell_type": "code",
   "execution_count": 2,
   "id": "252e3e3b",
   "metadata": {},
   "outputs": [
    {
     "ename": "IndentationError",
     "evalue": "unexpected indent (3322733650.py, line 2)",
     "output_type": "error",
     "traceback": [
      "\u001b[1;36m  File \u001b[1;32m\"C:\\Users\\krish\\AppData\\Local\\Temp\\ipykernel_1508\\3322733650.py\"\u001b[1;36m, line \u001b[1;32m2\u001b[0m\n\u001b[1;33m    def __init__(self, name, age, breed):\u001b[0m\n\u001b[1;37m    ^\u001b[0m\n\u001b[1;31mIndentationError\u001b[0m\u001b[1;31m:\u001b[0m unexpected indent\n"
     ]
    }
   ],
   "source": [
    "#this is the class body\n",
    "    def __init__(self, name, age, breed):\n",
    "        self.name=name\n",
    "        self.age=age\n",
    "        self.breed=breed\n",
    "    def birdsit(self):\n",
    "        print(self.name + ' is a bird that is sitting')\n",
    "    def birdfly(self):\n",
    "        print(self.name + ' is a bird that is flying')\n",
    "    def birdage(self):\n",
    "        print(str(self.age) + ' is a bird age')\n",
    "    def birddata(self):\n",
    "        print(str(self.name) + ' is a '+str(self.breed)) \n",
    "     #modify this to use user input.\n",
    "\n",
    "myBird=Bird('Pink',4,'flamingo')\n",
    "myBird.birddata()"
   ]
  },
  {
   "cell_type": "code",
   "execution_count": null,
   "id": "a9a55193",
   "metadata": {},
   "outputs": [],
   "source": [
    "class Triangle:\n",
    "    def __init__(self, x, y):\n",
    "        self.base=x\n",
    "        self.height=y\n",
    "    def calc(self):\n",
    "        area=0.5*self.base*self.height\n",
    "        return (area)\n",
    "\n",
    "myBase=int(input('Please enter the base length : '))\n",
    "myHeight=int(input('Please enter the height : '))"
   ]
  },
  {
   "cell_type": "code",
   "execution_count": null,
   "id": "28cd461c",
   "metadata": {},
   "outputs": [],
   "source": [
    "class triangle:\n",
    "    #setting default values\n",
    "    def __init__(self, x=10, y=10):\n",
    "        self.base=x\n",
    "        self.height=y\n",
    "    ##using a str\n",
    "       #def __str__ \n",
    "   #    return\n",
    "    def calc(self):\n",
    "        area=0.5*self.base*self.height\n",
    "        return (area)\n",
    "#create an instance\n",
    "myBase=int(input('Please enter the base length : '))\n",
    "myHeight=int(input('Please enter the height : '))\n",
    "myTri=triangle(myBase, myHeight)\n",
    "print(myTri.base)\n",
    "print(myTri.height)\n",
    "myTri.calc()"
   ]
  },
  {
   "cell_type": "code",
   "execution_count": null,
   "id": "cf8ea2fa",
   "metadata": {},
   "outputs": [],
   "source": [
    "class triangle:\n",
    "    #setting default values\n",
    "    def __init__(self, x=10, y=10):\n",
    "        self.base=x\n",
    "        self.height=y\n",
    "    ##using a str\n",
    "       #def __str__ \n",
    "   #    return\n",
    "    def calc(self):\n",
    "        area=0.5*self.base*self.height\n",
    "        return (area)\n",
    "#create an instance\n",
    "myBase=int(input('Please enter the base length : '))\n",
    "myHeight=int(input('Please enter the height : '))\n",
    "myTri=triangle(myBase, myHeight)\n",
    "print(myTri.base)\n",
    "print(myTri.height)\n",
    "myTri.calc()"
   ]
  },
  {
   "cell_type": "code",
   "execution_count": null,
   "id": "bd9ef4cd",
   "metadata": {},
   "outputs": [],
   "source": [
    "print('Hello')"
   ]
  },
  {
   "cell_type": "code",
   "execution_count": null,
   "id": "5f8887e7",
   "metadata": {},
   "outputs": [],
   "source": []
  }
 ],
 "metadata": {
  "kernelspec": {
   "display_name": "Python 3 (ipykernel)",
   "language": "python",
   "name": "python3"
  },
  "language_info": {
   "codemirror_mode": {
    "name": "ipython",
    "version": 3
   },
   "file_extension": ".py",
   "mimetype": "text/x-python",
   "name": "python",
   "nbconvert_exporter": "python",
   "pygments_lexer": "ipython3",
   "version": "3.9.13"
  }
 },
 "nbformat": 4,
 "nbformat_minor": 5
}
