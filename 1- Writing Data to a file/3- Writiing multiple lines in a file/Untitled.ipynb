{
 "cells": [
  {
   "cell_type": "code",
   "execution_count": 2,
   "id": "c04b685e",
   "metadata": {},
   "outputs": [
    {
     "name": "stdout",
     "output_type": "stream",
     "text": [
      "How many lines do you want to write into the file?3\n",
      "Please write the files name: competition.txt\n",
      "Enter word: apple tart\n",
      "Enter word: banana tart\n",
      "Enter word: peach tart\n",
      "\n",
      "\n",
      "apple tart\n",
      "\n",
      "banana tart\n",
      "\n",
      "peach tart\n"
     ]
    }
   ],
   "source": [
    "#writing to muliple files\n",
    "\n",
    "#Step1\n",
    "final=int(input('How many lines do you want to write into the file?'))\n",
    "myFileName=input('Please write the files name: ')\n",
    "\n",
    "#Step2\n",
    "myLine=''\n",
    "\n",
    "#Step3\n",
    "#open file\n",
    "f=open(myFileName,'w')\n",
    "\n",
    "for myLine in range(0,final):\n",
    "    myLine=input('Enter word: ')\n",
    "    \n",
    "    f.write('\\n%s' %myLine)\n",
    "\n",
    "#Step4    \n",
    "f.close()\n",
    "\n",
    "\n",
    "#lets read whats written on the file\n",
    "y=open(myFileName)\n",
    "\n",
    "while True:\n",
    "    line=y.readline()\n",
    "    \n",
    "    if len(line)==0:\n",
    "        break\n",
    "    print(line)\n",
    "    \n",
    "y.close()\n",
    "\n",
    "\n",
    "\n"
   ]
  },
  {
   "cell_type": "code",
   "execution_count": null,
   "id": "6b3f5eca",
   "metadata": {},
   "outputs": [],
   "source": []
  }
 ],
 "metadata": {
  "kernelspec": {
   "display_name": "Python 3 (ipykernel)",
   "language": "python",
   "name": "python3"
  },
  "language_info": {
   "codemirror_mode": {
    "name": "ipython",
    "version": 3
   },
   "file_extension": ".py",
   "mimetype": "text/x-python",
   "name": "python",
   "nbconvert_exporter": "python",
   "pygments_lexer": "ipython3",
   "version": "3.9.13"
  }
 },
 "nbformat": 4,
 "nbformat_minor": 5
}
