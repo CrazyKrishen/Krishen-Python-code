{
 "cells": [
  {
   "cell_type": "code",
   "execution_count": 1,
   "id": "3f54fc94",
   "metadata": {},
   "outputs": [
    {
     "name": "stdout",
     "output_type": "stream",
     "text": [
      "Please enter a number: 2.2\n",
      "Please enter another number: 2.8\n",
      "The mulitple is  6.16\n"
     ]
    }
   ],
   "source": [
    "#Ask for input and show output\n",
    "\n",
    "num1 = float(input('Please enter a number: '))\n",
    "num2 = float(input('Please enter another number: '))\n",
    "\n",
    "mulitple = num1*num2\n",
    "\n",
    "print('The mulitple is ',mulitple)"
   ]
  },
  {
   "cell_type": "code",
   "execution_count": null,
   "id": "ceb4f8e7",
   "metadata": {},
   "outputs": [],
   "source": []
  }
 ],
 "metadata": {
  "kernelspec": {
   "display_name": "Python 3 (ipykernel)",
   "language": "python",
   "name": "python3"
  },
  "language_info": {
   "codemirror_mode": {
    "name": "ipython",
    "version": 3
   },
   "file_extension": ".py",
   "mimetype": "text/x-python",
   "name": "python",
   "nbconvert_exporter": "python",
   "pygments_lexer": "ipython3",
   "version": "3.9.13"
  }
 },
 "nbformat": 4,
 "nbformat_minor": 5
}
