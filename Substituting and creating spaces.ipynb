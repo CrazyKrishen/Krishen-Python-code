{
 "cells": [
  {
   "cell_type": "code",
   "execution_count": 1,
   "id": "93d7df8f",
   "metadata": {},
   "outputs": [
    {
     "name": "stdout",
     "output_type": "stream",
     "text": [
      "a is 6 b is 8\n"
     ]
    }
   ],
   "source": [
    "#Substituting values\n",
    "\n",
    "\n",
    "a=6\n",
    "b=8\n",
    "\n",
    "print('a is %d b is %d' %(a,b))  #use %d for substitution in the string and add %(variable1,variable2 ) after the string\n"
   ]
  },
  {
   "cell_type": "code",
   "execution_count": 2,
   "id": "72b5594e",
   "metadata": {},
   "outputs": [
    {
     "name": "stdout",
     "output_type": "stream",
     "text": [
      "Its Krishen Its summer\n"
     ]
    }
   ],
   "source": [
    "#creating spaces\n",
    "\n",
    "\n",
    "print('Its Krishen', 'Its summer')"
   ]
  },
  {
   "cell_type": "code",
   "execution_count": 5,
   "id": "d77b6a72",
   "metadata": {},
   "outputs": [
    {
     "name": "stdout",
     "output_type": "stream",
     "text": [
      "Hello World!It might rain today\n"
     ]
    }
   ],
   "source": [
    "#creating spaces using +\n",
    "\n",
    "\n",
    "print('Hello World!'+'It might rain today')\n"
   ]
  },
  {
   "cell_type": "code",
   "execution_count": 6,
   "id": "d2909c60",
   "metadata": {},
   "outputs": [
    {
     "name": "stdout",
     "output_type": "stream",
     "text": [
      "Hello World! It might rain today\n"
     ]
    }
   ],
   "source": [
    "#creating spaces using + +\n",
    "\n",
    "print('Hello World!'+ ' '+ 'It might rain today')"
   ]
  },
  {
   "cell_type": "code",
   "execution_count": 8,
   "id": "2caffb24",
   "metadata": {},
   "outputs": [
    {
     "name": "stdout",
     "output_type": "stream",
     "text": [
      "Its Krishen Its summer\n"
     ]
    }
   ],
   "source": [
    "#Subpressing strings from different line(Making it in 1 line)\n",
    "\n",
    "\n",
    "\n",
    "print('Its Krishen', end='')\n",
    "\n",
    "print(' Its summer')\n",
    "\n",
    "\n"
   ]
  },
  {
   "cell_type": "code",
   "execution_count": null,
   "id": "84b69a35",
   "metadata": {},
   "outputs": [],
   "source": []
  }
 ],
 "metadata": {
  "kernelspec": {
   "display_name": "Python 3 (ipykernel)",
   "language": "python",
   "name": "python3"
  },
  "language_info": {
   "codemirror_mode": {
    "name": "ipython",
    "version": 3
   },
   "file_extension": ".py",
   "mimetype": "text/x-python",
   "name": "python",
   "nbconvert_exporter": "python",
   "pygments_lexer": "ipython3",
   "version": "3.9.13"
  }
 },
 "nbformat": 4,
 "nbformat_minor": 5
}
