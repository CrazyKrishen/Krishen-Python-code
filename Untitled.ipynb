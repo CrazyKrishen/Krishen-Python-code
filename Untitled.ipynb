{
 "cells": [
  {
   "cell_type": "code",
   "execution_count": 1,
   "id": "b11b2371",
   "metadata": {},
   "outputs": [
    {
     "name": "stdout",
     "output_type": "stream",
     "text": [
      "Please enter the base length : 12\n",
      "Please enter the height : 12\n",
      "12\n",
      "12\n"
     ]
    },
    {
     "data": {
      "text/plain": [
       "72.0"
      ]
     },
     "execution_count": 1,
     "metadata": {},
     "output_type": "execute_result"
    }
   ],
   "source": [
    "class triangle:\n",
    "    #setting default values\n",
    "    def __init__(self, x=10, y=10):\n",
    "        self.base=x\n",
    "        self.height=y\n",
    "    ##using a str\n",
    "       #def __str__ \n",
    "   #    return\n",
    "    def calc(self):\n",
    "        area=0.5*self.base*self.height\n",
    "        return (area)\n",
    "#create an instance\n",
    "myBase=int(input('Please enter the base length : '))\n",
    "myHeight=int(input('Please enter the height : '))\n",
    "myTri=triangle(myBase, myHeight)\n",
    "print(myTri.base)\n",
    "print(myTri.height)\n",
    "myTri.calc()"
   ]
  },
  {
   "cell_type": "code",
   "execution_count": 2,
   "id": "aee0f824",
   "metadata": {},
   "outputs": [
    {
     "name": "stdout",
     "output_type": "stream",
     "text": [
      "Hello\n"
     ]
    }
   ],
   "source": [
    "print('Hello')"
   ]
  },
  {
   "cell_type": "code",
   "execution_count": 3,
   "id": "e9f80917",
   "metadata": {},
   "outputs": [
    {
     "name": "stdout",
     "output_type": "stream",
     "text": [
      "18.0\n"
     ]
    }
   ],
   "source": [
    "#define the class object\n",
    "class Triangle:\n",
    "    base=9\n",
    "    height=4\n",
    "    area=0.5*base*height\n",
    "\n",
    "#print(Triangle.base)\n",
    "#print(Triangle.height)\n",
    "print(Triangle.area)"
   ]
  },
  {
   "cell_type": "code",
   "execution_count": 4,
   "id": "927a023b",
   "metadata": {},
   "outputs": [
    {
     "ename": "IndentationError",
     "evalue": "unexpected indent (3611479264.py, line 2)",
     "output_type": "error",
     "traceback": [
      "\u001b[1;36m  File \u001b[1;32m\"C:\\Users\\krish\\AppData\\Local\\Temp\\ipykernel_16348\\3611479264.py\"\u001b[1;36m, line \u001b[1;32m2\u001b[0m\n\u001b[1;33m    base=9\u001b[0m\n\u001b[1;37m    ^\u001b[0m\n\u001b[1;31mIndentationError\u001b[0m\u001b[1;31m:\u001b[0m unexpected indent\n"
     ]
    }
   ],
   "source": [
    " #an attribute of the class\n",
    "    base=9\n",
    "    height=4\n",
    "    def calcArea(self):\n",
    "        area=0.5*Triangle.base*Triangle.height\n",
    "        return (area)"
   ]
  },
  {
   "cell_type": "code",
   "execution_count": 5,
   "id": "681d9ced",
   "metadata": {},
   "outputs": [
    {
     "ename": "TypeError",
     "evalue": "__init__() missing 1 required positional argument: 'breed'",
     "output_type": "error",
     "traceback": [
      "\u001b[1;31m---------------------------------------------------------------------------\u001b[0m",
      "\u001b[1;31mTypeError\u001b[0m                                 Traceback (most recent call last)",
      "\u001b[1;32m~\\AppData\\Local\\Temp\\ipykernel_16348\\1998180640.py\u001b[0m in \u001b[0;36m<module>\u001b[1;34m\u001b[0m\n\u001b[0;32m     15\u001b[0m \u001b[1;33m\u001b[0m\u001b[0m\n\u001b[0;32m     16\u001b[0m \u001b[1;31m#modify this to use user input.\u001b[0m\u001b[1;33m\u001b[0m\u001b[1;33m\u001b[0m\u001b[0m\n\u001b[1;32m---> 17\u001b[1;33m \u001b[0mmyBird\u001b[0m\u001b[1;33m=\u001b[0m\u001b[0mBird\u001b[0m\u001b[1;33m(\u001b[0m\u001b[1;34m'Pink'\u001b[0m\u001b[1;33m,\u001b[0m\u001b[1;36m4\u001b[0m\u001b[1;33m)\u001b[0m\u001b[1;33m\u001b[0m\u001b[1;33m\u001b[0m\u001b[0m\n\u001b[0m\u001b[0;32m     18\u001b[0m \u001b[0mmyBird\u001b[0m\u001b[1;33m.\u001b[0m\u001b[0mbirdsit\u001b[0m\u001b[1;33m(\u001b[0m\u001b[1;33m)\u001b[0m\u001b[1;33m\u001b[0m\u001b[1;33m\u001b[0m\u001b[0m\n",
      "\u001b[1;31mTypeError\u001b[0m: __init__() missing 1 required positional argument: 'breed'"
     ]
    }
   ],
   "source": [
    "class Bird():\n",
    "    #this is the class body\n",
    "    def __init__(self, name, age, breed):\n",
    "        self.name=name\n",
    "        self.age=age\n",
    "        self.breed=breed\n",
    "    def birdsit(self):\n",
    "        print(self.name + ' is a bird that is sitting')\n",
    "    def birdfly(self):\n",
    "        print(self.name + ' is a bird that is flying')\n",
    "    def birdage(self):\n",
    "        print(str(self.age) + ' is a bird age')\n",
    "    def birddata(self):\n",
    "        print(str(self.name) + ' is a '+str(self.breed))\n",
    "\n",
    "#modify this to use user input.\n",
    "myBird=Bird('Pink',4)\n",
    "myBird.birdsit()"
   ]
  },
  {
   "cell_type": "code",
   "execution_count": 6,
   "id": "87c41c05",
   "metadata": {},
   "outputs": [
    {
     "name": "stdout",
     "output_type": "stream",
     "text": [
      "Please enter the base length : 12\n",
      "Please enter the height : 12\n"
     ]
    },
    {
     "ename": "AttributeError",
     "evalue": "'triangle' object has no attribute 'base'",
     "output_type": "error",
     "traceback": [
      "\u001b[1;31m---------------------------------------------------------------------------\u001b[0m",
      "\u001b[1;31mAttributeError\u001b[0m                            Traceback (most recent call last)",
      "\u001b[1;32m~\\AppData\\Local\\Temp\\ipykernel_16348\\1651008363.py\u001b[0m in \u001b[0;36m<module>\u001b[1;34m\u001b[0m\n\u001b[0;32m     23\u001b[0m \u001b[0mmyTri\u001b[0m\u001b[1;33m=\u001b[0m\u001b[0mtriangle\u001b[0m\u001b[1;33m(\u001b[0m\u001b[0mmyBase\u001b[0m\u001b[1;33m,\u001b[0m \u001b[0mmyHeight\u001b[0m\u001b[1;33m)\u001b[0m\u001b[1;33m\u001b[0m\u001b[1;33m\u001b[0m\u001b[0m\n\u001b[0;32m     24\u001b[0m \u001b[1;33m\u001b[0m\u001b[0m\n\u001b[1;32m---> 25\u001b[1;33m \u001b[0mprint\u001b[0m\u001b[1;33m(\u001b[0m\u001b[0mmyTri\u001b[0m\u001b[1;33m.\u001b[0m\u001b[0mbase\u001b[0m\u001b[1;33m)\u001b[0m\u001b[1;33m\u001b[0m\u001b[1;33m\u001b[0m\u001b[0m\n\u001b[0m\u001b[0;32m     26\u001b[0m \u001b[1;33m\u001b[0m\u001b[0m\n\u001b[0;32m     27\u001b[0m \u001b[0mprint\u001b[0m\u001b[1;33m(\u001b[0m\u001b[0mmyTri\u001b[0m\u001b[1;33m.\u001b[0m\u001b[0mheight\u001b[0m\u001b[1;33m)\u001b[0m\u001b[1;33m\u001b[0m\u001b[1;33m\u001b[0m\u001b[0m\n",
      "\u001b[1;31mAttributeError\u001b[0m: 'triangle' object has no attribute 'base'"
     ]
    }
   ],
   "source": [
    "class triangle:\n",
    "\n",
    " #setting default values\n",
    "\n",
    "  def __init__(self, x=10, y=10):\n",
    "\n",
    "        self.__base=x\n",
    "\n",
    "        self.__height=y\n",
    "\n",
    "  def calc(self):\n",
    "\n",
    "        area=0.5*self.base*self.height\n",
    "\n",
    "        return (area)\n",
    "\n",
    "#create an instance\n",
    "\n",
    "myBase=int(input('Please enter the base length : '))\n",
    "\n",
    "myHeight=int(input('Please enter the height : '))\n",
    "\n",
    "myTri=triangle(myBase, myHeight)\n",
    "\n",
    "print(myTri.base)\n",
    "\n",
    "print(myTri.height)\n",
    "\n",
    "myTri.calc()"
   ]
  },
  {
   "cell_type": "code",
   "execution_count": 7,
   "id": "a30ff071",
   "metadata": {},
   "outputs": [
    {
     "name": "stdout",
     "output_type": "stream",
     "text": [
      "9\n",
      "4\n",
      "Name is Triangle\n"
     ]
    }
   ],
   "source": [
    "class Triangle:\n",
    "    #an attribute of the class\n",
    "    base=9\n",
    "    height=4\n",
    "\n",
    "print(Triangle.base)\n",
    "print(Triangle.height)\n",
    "print('Name is', Triangle.__name__)"
   ]
  },
  {
   "cell_type": "code",
   "execution_count": 8,
   "id": "1fbc055c",
   "metadata": {},
   "outputs": [
    {
     "name": "stdout",
     "output_type": "stream",
     "text": [
      "Pink is a flamingo\n"
     ]
    }
   ],
   "source": [
    "class Bird():\n",
    "    #this is the class body\n",
    "    def __init__(self, name, age, breed):\n",
    "        self.name=name\n",
    "        self.age=age\n",
    "        self.breed=breed\n",
    "    def birdsit(self):\n",
    "        print(self.name + ' is a bird that is sitting')\n",
    "    def birdfly(self):\n",
    "        print(self.name + ' is a bird that is flying')\n",
    "    def birdage(self):\n",
    "        print(str(self.age) + ' is a bird age')\n",
    "    def birddata(self):\n",
    "        print(str(self.name) + ' is a '+str(self.breed)) \n",
    "     #modify this to use user input.\n",
    "\n",
    "myBird=Bird('Pink',4,'flamingo')\n",
    "myBird.birddata()"
   ]
  },
  {
   "cell_type": "code",
   "execution_count": 9,
   "id": "4d906b92",
   "metadata": {},
   "outputs": [
    {
     "name": "stdout",
     "output_type": "stream",
     "text": [
      "Please enter the base length : 12\n",
      "Please enter the height : 12\n",
      "12\n",
      "12\n"
     ]
    },
    {
     "data": {
      "text/plain": [
       "72.0"
      ]
     },
     "execution_count": 9,
     "metadata": {},
     "output_type": "execute_result"
    }
   ],
   "source": [
    "class triangle:\n",
    "    #setting default values\n",
    "    def __init__(self, x=10, y=10):\n",
    "        self.base=x\n",
    "        self.height=y\n",
    "    ##using a str\n",
    "       #def __str__ \n",
    "   #    return\n",
    "    def calc(self):\n",
    "        area=0.5*self.base*self.height\n",
    "        return (area)\n",
    "#create an instance\n",
    "myBase=int(input('Please enter the base length : '))\n",
    "myHeight=int(input('Please enter the height : '))\n",
    "myTri=triangle(myBase, myHeight)\n",
    "print(myTri.base)\n",
    "print(myTri.height)\n",
    "myTri.calc()"
   ]
  },
  {
   "cell_type": "code",
   "execution_count": 10,
   "id": "02f211b3",
   "metadata": {},
   "outputs": [
    {
     "ename": "IndentationError",
     "evalue": "unexpected indent (4281223409.py, line 3)",
     "output_type": "error",
     "traceback": [
      "\u001b[1;36m  File \u001b[1;32m\"C:\\Users\\krish\\AppData\\Local\\Temp\\ipykernel_16348\\4281223409.py\"\u001b[1;36m, line \u001b[1;32m3\u001b[0m\n\u001b[1;33m    def __init__(self, x=10, y=10):\u001b[0m\n\u001b[1;37m    ^\u001b[0m\n\u001b[1;31mIndentationError\u001b[0m\u001b[1;31m:\u001b[0m unexpected indent\n"
     ]
    }
   ],
   "source": [
    " #setting default values\n",
    "\n",
    "  def __init__(self, x=10, y=10):\n",
    "\n",
    "        self.__base=x\n",
    "\n",
    "        self.__height=y\n",
    "\n",
    "  def calc(self):\n",
    "\n",
    "        area=0.5*self.base*self.height\n",
    "\n",
    "        return (area)\n",
    "\n",
    "#create an instance\n",
    "\n",
    "myBase=int(input('Please enter the base length : '))\n",
    "\n",
    "myHeight=int(input('Please enter the height : '))\n",
    "\n",
    "myTri=triangle(myBase, myHeight)\n",
    "\n",
    "print(myTri.base)\n",
    "\n",
    "print(myTri.height)\n",
    "\n",
    "myTri.calc()"
   ]
  },
  {
   "cell_type": "code",
   "execution_count": 11,
   "id": "22c24a69",
   "metadata": {},
   "outputs": [
    {
     "name": "stdout",
     "output_type": "stream",
     "text": [
      "Please enter the base length : 12\n",
      "Please enter the height : 12\n"
     ]
    },
    {
     "ename": "AttributeError",
     "evalue": "'triangle' object has no attribute 'base'",
     "output_type": "error",
     "traceback": [
      "\u001b[1;31m---------------------------------------------------------------------------\u001b[0m",
      "\u001b[1;31mAttributeError\u001b[0m                            Traceback (most recent call last)",
      "\u001b[1;32m~\\AppData\\Local\\Temp\\ipykernel_16348\\1651008363.py\u001b[0m in \u001b[0;36m<module>\u001b[1;34m\u001b[0m\n\u001b[0;32m     23\u001b[0m \u001b[0mmyTri\u001b[0m\u001b[1;33m=\u001b[0m\u001b[0mtriangle\u001b[0m\u001b[1;33m(\u001b[0m\u001b[0mmyBase\u001b[0m\u001b[1;33m,\u001b[0m \u001b[0mmyHeight\u001b[0m\u001b[1;33m)\u001b[0m\u001b[1;33m\u001b[0m\u001b[1;33m\u001b[0m\u001b[0m\n\u001b[0;32m     24\u001b[0m \u001b[1;33m\u001b[0m\u001b[0m\n\u001b[1;32m---> 25\u001b[1;33m \u001b[0mprint\u001b[0m\u001b[1;33m(\u001b[0m\u001b[0mmyTri\u001b[0m\u001b[1;33m.\u001b[0m\u001b[0mbase\u001b[0m\u001b[1;33m)\u001b[0m\u001b[1;33m\u001b[0m\u001b[1;33m\u001b[0m\u001b[0m\n\u001b[0m\u001b[0;32m     26\u001b[0m \u001b[1;33m\u001b[0m\u001b[0m\n\u001b[0;32m     27\u001b[0m \u001b[0mprint\u001b[0m\u001b[1;33m(\u001b[0m\u001b[0mmyTri\u001b[0m\u001b[1;33m.\u001b[0m\u001b[0mheight\u001b[0m\u001b[1;33m)\u001b[0m\u001b[1;33m\u001b[0m\u001b[1;33m\u001b[0m\u001b[0m\n",
      "\u001b[1;31mAttributeError\u001b[0m: 'triangle' object has no attribute 'base'"
     ]
    }
   ],
   "source": [
    "class triangle:\n",
    "\n",
    " #setting default values\n",
    "\n",
    "  def __init__(self, x=10, y=10):\n",
    "\n",
    "        self.__base=x\n",
    "\n",
    "        self.__height=y\n",
    "\n",
    "  def calc(self):\n",
    "\n",
    "        area=0.5*self.base*self.height\n",
    "\n",
    "        return (area)\n",
    "\n",
    "#create an instance\n",
    "\n",
    "myBase=int(input('Please enter the base length : '))\n",
    "\n",
    "myHeight=int(input('Please enter the height : '))\n",
    "\n",
    "myTri=triangle(myBase, myHeight)\n",
    "\n",
    "print(myTri.base)\n",
    "\n",
    "print(myTri.height)\n",
    "\n",
    "myTri.calc()"
   ]
  },
  {
   "cell_type": "code",
   "execution_count": null,
   "id": "9eeef521",
   "metadata": {},
   "outputs": [],
   "source": []
  }
 ],
 "metadata": {
  "kernelspec": {
   "display_name": "Python 3 (ipykernel)",
   "language": "python",
   "name": "python3"
  },
  "language_info": {
   "codemirror_mode": {
    "name": "ipython",
    "version": 3
   },
   "file_extension": ".py",
   "mimetype": "text/x-python",
   "name": "python",
   "nbconvert_exporter": "python",
   "pygments_lexer": "ipython3",
   "version": "3.9.13"
  }
 },
 "nbformat": 4,
 "nbformat_minor": 5
}
