{
 "cells": [
  {
   "cell_type": "code",
   "execution_count": 6,
   "id": "1eabe4fb",
   "metadata": {},
   "outputs": [
    {
     "name": "stdout",
     "output_type": "stream",
     "text": [
      "Please enter your name: Krishen Thoolsi\n",
      "Please enter your age: 25\n",
      "Students name is:  Krishen Thoolsi\n",
      "Students age is:  25\n"
     ]
    }
   ],
   "source": [
    "#classes\n",
    "\n",
    "class Student():\n",
    "    #class body\n",
    "    \n",
    "    def __init__(self,name,age):    #beware that self is a reserved word and also __init__ is a reserved fucntion\n",
    "        self.name=name\n",
    "        self.age=age\n",
    "    \n",
    "    def student_name(self):\n",
    "        print('Students name is: ',self.name)\n",
    "        \n",
    "    def student_age(self):\n",
    "        print('Students age is: ', self.age)\n",
    "        \n",
    "        \n",
    "#main fucntion        \n",
    "studentName=input('Please enter your name: ')\n",
    "studentAge=int(input('Please enter your age: '))\n",
    "\n",
    "schoolStudent=Student(studentName,studentAge)   #initialize the class and equate it to a variable\n",
    "\n",
    "schoolStudent.student_name()   #calling each fucntion with the given input from the class\n",
    "schoolStudent.student_age()"
   ]
  },
  {
   "cell_type": "code",
   "execution_count": 9,
   "id": "642b8612",
   "metadata": {},
   "outputs": [
    {
     "name": "stdout",
     "output_type": "stream",
     "text": [
      "Base is:  3\n",
      "Height is:  5\n"
     ]
    }
   ],
   "source": [
    "#initializing it in the class\n",
    "\n",
    "class rectangle():  #class\n",
    "    base=3  #initialized in the class\n",
    "    height=5\n",
    "\n",
    "    \n",
    "#main fucntion\n",
    "\n",
    "print('Base is: ', rectangle.base)    #calling each variable\n",
    "print('Height is: ', rectangle.height)"
   ]
  },
  {
   "cell_type": "code",
   "execution_count": 10,
   "id": "1947082c",
   "metadata": {},
   "outputs": [
    {
     "name": "stdout",
     "output_type": "stream",
     "text": [
      "Base is:  3\n",
      "Height is:  5\n",
      "The classes name is:  rectangle\n"
     ]
    }
   ],
   "source": [
    "#showing the classes name\n",
    "\n",
    "\n",
    "class rectangle():  #class\n",
    "    base=3  #initialized in the class\n",
    "    height=5\n",
    "\n",
    "    \n",
    "#main fucntion\n",
    "\n",
    "print('Base is: ', rectangle.base)    #calling each variable\n",
    "print('Height is: ', rectangle.height)\n",
    "print('The classes name is: ',rectangle.__name__)"
   ]
  },
  {
   "cell_type": "code",
   "execution_count": 14,
   "id": "00a40ca9",
   "metadata": {},
   "outputs": [
    {
     "name": "stdout",
     "output_type": "stream",
     "text": [
      "Base is:  3\n",
      "Height is:  5\n"
     ]
    },
    {
     "data": {
      "text/plain": [
       "7.5"
      ]
     },
     "execution_count": 14,
     "metadata": {},
     "output_type": "execute_result"
    }
   ],
   "source": [
    "#shwoing the difference between class and instance variables\n",
    "\n",
    "class triangle():  #class\n",
    "    base=3  #initialized in the class\n",
    "    height=5\n",
    "    \n",
    "    def area(self):   #self is the reserved word\n",
    "        answer=0.5*triangle.base*triangle.height\n",
    "        return answer\n",
    "    \n",
    "#main fucntion\n",
    "\n",
    "#creating an instance in the main fucntion\n",
    "myTria= triangle()\n",
    "print('Base is: ', myTria.base)    #calling each variable\n",
    "print('Height is: ', myTria.height)\n",
    "\n",
    "#Now the program will add them automatically\n",
    "myTria.area()\n",
    "\n"
   ]
  },
  {
   "cell_type": "code",
   "execution_count": 18,
   "id": "1476e554",
   "metadata": {},
   "outputs": [
    {
     "name": "stdout",
     "output_type": "stream",
     "text": [
      "Please enter the base for your tringle: 5\n",
      "Please enter the height for your tringle: 10\n",
      "Base is:  5\n",
      "Height is:  10\n"
     ]
    },
    {
     "data": {
      "text/plain": [
       "25.0"
      ]
     },
     "execution_count": 18,
     "metadata": {},
     "output_type": "execute_result"
    }
   ],
   "source": [
    "#showing the difference between class and instance variables\n",
    "#Now we here we ask the user to input the base and height\n",
    "\n",
    "class triangle():  #class\n",
    "    \n",
    "    def __init__(self,x,y):\n",
    "        self.base=x    \n",
    "        self.height=y\n",
    "    \n",
    "    def area(self):   #self is the reserved word\n",
    "        answer=0.5*self.base*self.height\n",
    "        return answer\n",
    "    \n",
    "#main fucntion\n",
    "\n",
    "#creating an instance in the main fucntion\n",
    "myBase=int(input('Please enter the base for your tringle: '))\n",
    "myHeight=int(input('Please enter the height for your tringle: '))\n",
    "\n",
    "myTria= triangle(myBase,myHeight)   #calling and giving values to the class fucntion\n",
    "\n",
    "print('Base is: ', myTria.base)    #calling each variable\n",
    "print('Height is: ', myTria.height)\n",
    "\n",
    "#Now the program will add them automatically\n",
    "myTria.area()\n"
   ]
  },
  {
   "cell_type": "code",
   "execution_count": 23,
   "id": "e822e048",
   "metadata": {},
   "outputs": [
    {
     "name": "stdout",
     "output_type": "stream",
     "text": [
      "Please enter the base for your tringle: 10\n",
      "Please enter the height for your tringle: 30\n",
      "Base is:  10\n",
      "Height is:  30\n"
     ]
    },
    {
     "data": {
      "text/plain": [
       "150.0"
      ]
     },
     "execution_count": 23,
     "metadata": {},
     "output_type": "execute_result"
    }
   ],
   "source": [
    "#showing the difference between class and instance variables\n",
    "#difference class method vs static method (has no cls parameter!!)\n",
    "\n",
    "#here we set default variables\n",
    "\n",
    "class triangle():  #class\n",
    "    \n",
    "    def __init__(self, x=10, y=10):   #Default is set for x and y\n",
    "        self.base=x    \n",
    "        self.height=y\n",
    "    \n",
    "    def area(self):   #self is the reserved word\n",
    "        answer=0.5*self.base*self.height\n",
    "        return answer\n",
    "    \n",
    "#main fucntion\n",
    "\n",
    "#creating an instance in the main fucntion\n",
    "myBase=int(input('Please enter the base for your tringle: '))\n",
    "myHeight=int(input('Please enter the height for your tringle: '))\n",
    "\n",
    "myTria= triangle(myBase,myHeight)   #calling and giving values to the class fucntion\n",
    "\n",
    "print('Base is: ', myTria.base)    #calling each variable\n",
    "print('Height is: ', myTria.height)\n",
    "\n",
    "#Now the program will add them automatically\n",
    "myTria.area()\n"
   ]
  },
  {
   "cell_type": "code",
   "execution_count": 12,
   "id": "56ccff39",
   "metadata": {},
   "outputs": [
    {
     "name": "stdout",
     "output_type": "stream",
     "text": [
      "Please enter the base for your tringle: 20\n",
      "Please enter the height for your tringle: 60\n"
     ]
    },
    {
     "ename": "AttributeError",
     "evalue": "'triangle' object has no attribute 'base'",
     "output_type": "error",
     "traceback": [
      "\u001b[1;31m---------------------------------------------------------------------------\u001b[0m",
      "\u001b[1;31mAttributeError\u001b[0m                            Traceback (most recent call last)",
      "\u001b[1;32m~\\AppData\\Local\\Temp\\ipykernel_1736\\203187454.py\u001b[0m in \u001b[0;36m<module>\u001b[1;34m\u001b[0m\n\u001b[0;32m     19\u001b[0m \u001b[0mmyTria\u001b[0m\u001b[1;33m=\u001b[0m \u001b[0mtriangle\u001b[0m\u001b[1;33m(\u001b[0m\u001b[0mmyBase\u001b[0m\u001b[1;33m,\u001b[0m\u001b[0mmyHeight\u001b[0m\u001b[1;33m)\u001b[0m   \u001b[1;31m#calling and giving values to the class fucntion\u001b[0m\u001b[1;33m\u001b[0m\u001b[1;33m\u001b[0m\u001b[0m\n\u001b[0;32m     20\u001b[0m \u001b[1;33m\u001b[0m\u001b[0m\n\u001b[1;32m---> 21\u001b[1;33m \u001b[0mprint\u001b[0m\u001b[1;33m(\u001b[0m\u001b[1;34m'Base is: '\u001b[0m\u001b[1;33m,\u001b[0m \u001b[0mmyTria\u001b[0m\u001b[1;33m.\u001b[0m\u001b[0mbase\u001b[0m\u001b[1;33m)\u001b[0m    \u001b[1;31m#calling each variable\u001b[0m\u001b[1;33m\u001b[0m\u001b[1;33m\u001b[0m\u001b[0m\n\u001b[0m\u001b[0;32m     22\u001b[0m \u001b[0mprint\u001b[0m\u001b[1;33m(\u001b[0m\u001b[1;34m'Height is: '\u001b[0m\u001b[1;33m,\u001b[0m \u001b[0mmyTria\u001b[0m\u001b[1;33m.\u001b[0m\u001b[0mheight\u001b[0m\u001b[1;33m)\u001b[0m\u001b[1;33m\u001b[0m\u001b[1;33m\u001b[0m\u001b[0m\n\u001b[0;32m     23\u001b[0m \u001b[1;33m\u001b[0m\u001b[0m\n",
      "\u001b[1;31mAttributeError\u001b[0m: 'triangle' object has no attribute 'base'"
     ]
    }
   ],
   "source": [
    "#private member can be accessed from inside ONLY\n",
    "\n",
    "class triangle:  #class\n",
    "\n",
    "    def __init__(self, x=10, y=10):   #Default is set for x and y\n",
    "        self.__base=x    \n",
    "        self.__height=y\n",
    "    \n",
    "    def area(self):   #self is the reserved word\n",
    "        answer=0.5 * self.base * self.height\n",
    "        return answer\n",
    "    \n",
    "#main fucntion\n",
    "\n",
    "#creating an instance in the main fucntion\n",
    "myBase=int(input('Please enter the base for your tringle: '))\n",
    "myHeight=int(input('Please enter the height for your tringle: '))\n",
    "\n",
    "myTria= triangle(myBase,myHeight)   #calling and giving values to the class fucntion\n",
    "\n",
    "print('Base is: ', myTria.base)    #calling each variable\n",
    "print('Height is: ', myTria.height)\n",
    "\n",
    "#Now the program will add them automatically\n",
    "myTria.area()\n"
   ]
  },
  {
   "cell_type": "code",
   "execution_count": 9,
   "id": "2d77140f",
   "metadata": {},
   "outputs": [
    {
     "name": "stdout",
     "output_type": "stream",
     "text": [
      "The area is : 300\n",
      "Number of objects are:  1\n",
      "rectangle  is destoryed!\n",
      "The area is : 5000\n",
      "Number of objects are:  1\n",
      "rectangle  is destoryed!\n"
     ]
    }
   ],
   "source": [
    "#implementation of garbage collection \n",
    "#Garbage collection is a procedure of freeing up the memory that is used by \n",
    "#the variables or instances that are no longer required\n",
    "\n",
    "#For garbage collection, Python uses a reference countering mechanism.\n",
    "#Each object has a reference count that indicates the number of references\n",
    "#that exist for that object.\n",
    "\n",
    "class rectangle:\n",
    "    \n",
    "    num=0\n",
    "    #fucntion1, initialize the class\n",
    "    def __init__(self, a, b):\n",
    "        rectangle.num +=1  #in initialize function, it increases by 1\n",
    "        \n",
    "        self.lengh=a\n",
    "        self.breath=b\n",
    "    \n",
    "    #fucntion2,we destroy the class here\n",
    "    def __del__(self):\n",
    "        rectangle.num -=1  #in initialize function, it decreases by 1\n",
    "        \n",
    "        class_name= self.__class__.__name__   #self.__class__.__name__ is the destoryed class name\n",
    "        \n",
    "        print(class_name,' is destoryed!')\n",
    "    \n",
    "    #fucntion3\n",
    "    def area(self):\n",
    "        print('The area is :',self.lengh*self.breath)\n",
    "        \n",
    "    #fucntion4\n",
    "    def noOfObjects(self):\n",
    "        print('Number of objects are: ', rectangle.num)\n",
    "        \n",
    "        \n",
    "#main fucntion\n",
    "\n",
    "firstSet=rectangle(10,30)  #initialize first set\n",
    "firstSet.area()  #display area\n",
    "firstSet.noOfObjects()\n",
    "del firstSet\n",
    "\n",
    "secondSet=rectangle(50,100) #initialize first set\n",
    "secondSet.area()  #display area\n",
    "secondSet.noOfObjects()\n",
    "del secondSet"
   ]
  },
  {
   "cell_type": "code",
   "execution_count": 17,
   "id": "8d3567c1",
   "metadata": {},
   "outputs": [
    {
     "name": "stdout",
     "output_type": "stream",
     "text": [
      "The area in the triangle is:  450.0\n"
     ]
    }
   ],
   "source": [
    "#Inheritence\n",
    "#Inheritance is a technique of copying the data members and member\n",
    "#functions of an existing class into another class\n",
    "\n",
    "#The class that is being inherited is called the base class or the super class\n",
    "#the inheriting class is called the derived class or sub-class\n",
    "\n",
    "#The sub-class inherits all the properties of the base class\n",
    "\n",
    "#from textbook slide 147 single Inheritence\n",
    "\n",
    "from __future__ import division\n",
    "\n",
    "class rect:\n",
    "    \n",
    "    #fucntion1 in rect to intiialize\n",
    "    def __init__(self):\n",
    "        self.lengh=50\n",
    "        self.breath=10\n",
    "        \n",
    "    #fucntion2 in rect \n",
    "    def rectArea(self):\n",
    "        return self.length * self.breath\n",
    "    \n",
    "class triangle(rect):\n",
    "    \n",
    "    #function1 in traingle class to initialize\n",
    "    def __init__(self):  #initializing the triangle fucntion\n",
    "        rect.__init__(self)  #restating the rectangle fucntion to use the values\n",
    "        self.x=100\n",
    "        self.y=9\n",
    "        \n",
    "    #fucntion2 in triangle class\n",
    "    def triangleArea(self):\n",
    "        return 0.5*self.x*self.y\n",
    "\n",
    "#instance tri is created for triangle    \n",
    "tri=triangle()\n",
    "\n",
    "print('The area in the triangle is: ', tri.triangleArea())\n",
    "        "
   ]
  },
  {
   "cell_type": "code",
   "execution_count": 10,
   "id": "4a1b296e",
   "metadata": {},
   "outputs": [
    {
     "name": "stdout",
     "output_type": "stream",
     "text": [
      "Area of rectangle is  40\n",
      "Area of rectangle is  40\n"
     ]
    }
   ],
   "source": [
    "#Access control specifiers slide 148\n",
    "#Access control specifiers define the visibility of the members of the class\n",
    "#All the members of the class are assigned a boundary in which they can be\n",
    "#accessed using these control specifiers.\n",
    "#There are two keywords, public and private.\n",
    "\n",
    "#The following program shows how to define and access public members\n",
    "\n",
    "class rect:\n",
    "    def __init__(self, x,y):\n",
    "        self.l = x\n",
    "        self.b = y\n",
    "    \n",
    "    def rectarea(self):\n",
    "        return self.l * self.b\n",
    "\n",
    "r=rect(5,8)\n",
    "print (\"Area of rectangle is \", r.rectarea())   \n",
    "print (\"Area of rectangle is \", r.l* r.b)  #because here you can access l and b outside the body of the class, its public\n"
   ]
  },
  {
   "cell_type": "code",
   "execution_count": 12,
   "id": "82b156b7",
   "metadata": {},
   "outputs": [
    {
     "name": "stdout",
     "output_type": "stream",
     "text": [
      "Area of rectangle is  40\n",
      "Area of rectangle is  40\n"
     ]
    }
   ],
   "source": [
    "#Access control specifiers slide 148\n",
    "#Accessing private Members\n",
    "\n",
    "class rect:\n",
    "    def __init__(self, x,y):\n",
    "        self.__length = x\n",
    "        self.__breath = y\n",
    "\n",
    "    def rectarea(self):\n",
    "        return self.__length * self.__breath\n",
    "    \n",
    "    \n",
    "r=rect(5,8)\n",
    "print (\"Area of rectangle is \", r.rectarea())\n",
    "print (\"Area of rectangle is \", r._rect__length* r._rect__breath)\n",
    "\n",
    "\n",
    "#When in a method of a class body, an identifier is defined starting with two\n",
    "#underscores but not ending with underscores, it is considered a private\n",
    "#identifier of the class.\n",
    "#The private identifiers cannot be accessed from outside the body of the class.\n",
    "\n",
    "\n",
    "#If you try to access the privatemembers such as r.__length * r.__breath, you will get\n",
    "#AttributeError:‘rect’ has no attribute‘__length’.\n",
    "\n",
    "#To access private variables from outside the body of the class, you need to use the class\n",
    "#name, along with the instance name such as r._rect__length."
   ]
  },
  {
   "cell_type": "code",
   "execution_count": 15,
   "id": "86ae4e94",
   "metadata": {},
   "outputs": [
    {
     "name": "stdout",
     "output_type": "stream",
     "text": [
      "Area of the triangle is:  3000.0\n"
     ]
    }
   ],
   "source": [
    "#Method Overriding slide 150\n",
    "#If in a derived class you have a member function with the same signature\n",
    "#as that of the base class, then you say that the member function of the\n",
    "#derived class is overriding the member function of the base class.\n",
    "\n",
    "#If the member function is invoked by the instance of the derived class, the\n",
    "#member function of the derived class will be executed (and not the\n",
    "#member function of the base class)\n",
    "\n",
    "from __future__ import division\n",
    "\n",
    "class rect:                      #class1\n",
    "    \n",
    "    def __init__(self):\n",
    "        self.length=5\n",
    "        self.breath=10\n",
    "        \n",
    "    def rectArea(self):\n",
    "        return self.Length*self.breath\n",
    "    \n",
    "class triangle(rect):           #class2\n",
    "    \n",
    "    def __init__(self):\n",
    "        rect.__init__(self)\n",
    "        self.x=60\n",
    "        self.y=100\n",
    "        \n",
    "    def triangleArea(self):\n",
    "        return 0.5*self.x*self.y\n",
    "\n",
    "#creating an instance\n",
    "r=triangle()\n",
    "\n",
    "print('Area of the triangle is: ',r.triangleArea())\n",
    "\n",
    "\n",
    "#What if I want to get the area of rectangle as well as the area of\n",
    "#triangle? For this, you need to call the method of the base class from the\n",
    "#derived class.\n"
   ]
  },
  {
   "cell_type": "code",
   "execution_count": 21,
   "id": "fb9c12b5",
   "metadata": {},
   "outputs": [
    {
     "name": "stdout",
     "output_type": "stream",
     "text": [
      "The area for the rectangle is:  50\n",
      "The area for the rectangle is:  3000.0\n"
     ]
    }
   ],
   "source": [
    "#Accessing Methods of a Base Class from a Derived Class\n",
    "\n",
    "from __future__ import division\n",
    "\n",
    "class rect:                      #class1\n",
    "    \n",
    "    def __init__(self):\n",
    "        self.length=5\n",
    "        self.breath=10\n",
    "        \n",
    "    def area(self):\n",
    "         print('The area for the rectangle is: ',self.length*self.breath)\n",
    "            \n",
    "            \n",
    "class triangle(rect):           #class2\n",
    "    \n",
    "    def __init__(self):\n",
    "        rect.__init__(self)\n",
    "        self.x=60\n",
    "        self.y=100\n",
    "        \n",
    "    def area(self):\n",
    "        rect.area(self)\n",
    "        print('The area for the rectangle is: ',0.5*self.x*self.y)\n",
    "\n",
    "        \n",
    "        \n",
    "#creating an instance\n",
    "r=triangle()\n",
    "r.area()\n",
    "\n",
    "\n",
    "    "
   ]
  },
  {
   "cell_type": "code",
   "execution_count": 22,
   "id": "68a81efe",
   "metadata": {},
   "outputs": [],
   "source": [
    "#Mulilevel Multilevel Inheritance\n",
    "#When a class inherits a class that in turn is inherited by some another\n",
    "#class, you call it multilevel inheritance\n",
    "\n",
    "#For example, consider the following:\n",
    "\n",
    "#class worker:  A\n",
    "#...\n",
    "#class officer(worker):  B\n",
    "#...\n",
    "#class manager(officer):   C\n",
    "\n",
    "#The B class inherits from the A class, which in turn is inherited by class C. B\n",
    "#can access the public members of A, and C can access the public members\n",
    "#of Band hence of A.\n"
   ]
  },
  {
   "cell_type": "code",
   "execution_count": 23,
   "id": "7b304667",
   "metadata": {},
   "outputs": [
    {
     "name": "stdout",
     "output_type": "stream",
     "text": [
      "Information of worker is \n",
      "Code is  101\n",
      "Name is  John\n",
      "Salary is  2000\n",
      "\n",
      "Information of officer is \n",
      "Code is  102\n",
      "Name is  David\n",
      "Salary is  4000\n",
      "HRA - House Rent Allowance is  2400.0\n",
      "\n",
      "Information of manager is \n",
      "Code is  103\n",
      "Name is  Ben\n",
      "Salary is  5000\n",
      "HRA - House Rent Allowance is  3000.0\n",
      "DA - Dearness Allowance is  4900.0\n"
     ]
    }
   ],
   "source": [
    "#Mulilevel Multilevel Inheritance\n",
    "\n",
    "class worker:\n",
    "    def __init__(self, c, n, s):\n",
    "        self.code = c\n",
    "        self.name= n\n",
    "        self.salary = s\n",
    "    \n",
    "    def showworker(self):\n",
    "        print (\"Code is \", self.code)\n",
    "        print (\"Name is \", self.name)\n",
    "        print (\"Salary is \", self.salary)\n",
    "        \n",
    "class officer(worker):\n",
    "    def __init__(self, c,n,s):\n",
    "        worker.__init__(self,c,n,s)\n",
    "        self.hra = s*60/100\n",
    "    \n",
    "    def showofficer(self):\n",
    "        worker.showworker(self)\n",
    "        print (\"HRA - House Rent Allowance is \", self.hra)\n",
    "        \n",
    "\n",
    "class manager(officer):\n",
    "    def __init__(self, c,n,s):\n",
    "        officer.__init__(self,c,n,s)\n",
    "        self.da = s*98/100\n",
    "\n",
    "    def showmanager(self):\n",
    "        officer.showofficer(self)\n",
    "        print (\"DA - Dearness Allowance is \", self.da)\n",
    "        \n",
    "w=worker(101, 'John' , 2000)\n",
    "o=officer(102, 'David', 4000)\n",
    "m=manager(103, 'Ben' , 5000)\n",
    "print (\"Information of worker is \")\n",
    "w.showworker()\n",
    "print (\"\\nInformation of officer is \")\n",
    "o.showofficer()\n",
    "print (\"\\nInformation of manager is \")\n",
    "m.showmanager()"
   ]
  },
  {
   "cell_type": "code",
   "execution_count": 24,
   "id": "6716760c",
   "metadata": {},
   "outputs": [
    {
     "name": "stdout",
     "output_type": "stream",
     "text": [
      "Information of worker is \n",
      "Code is  101\n",
      "Name is  John\n",
      "Salary is  2000\n",
      "\n",
      "Information of officer is \n",
      "Code is  102\n",
      "Name is  David\n",
      "Salary is  4000\n",
      "HRA - House Rent Allowance is  2400.0\n",
      "\n",
      "Information of manager is \n",
      "Code is  103\n",
      "Name is  Ben\n",
      "Salary is  5000\n",
      "HRA - House Rent Allowance is  3000.0\n",
      "DA - Dearness Allowance is  4900.0\n"
     ]
    }
   ],
   "source": [
    "#Two Classes Inheriting from the Same Base Class\n",
    "class worker:\n",
    "    def __init__(self, c, n, s):\n",
    "        self.code = c\n",
    "        self.name= n\n",
    "        self.salary = s\n",
    "        \n",
    "    def showworker(self):\n",
    "        print (\"Code is \", self.code)\n",
    "        print (\"Name is \", self.name)\n",
    "        print (\"Salary is \", self.salary)\n",
    "        \n",
    "class officer(worker):\n",
    "    def __init__(self, c,n,s):\n",
    "        worker.__init__(self,c,n,s)    #worker.__init__(self,c,n,s) is inherited from the same base worker\n",
    "        self.hra = s*60/100\n",
    "    \n",
    "    def showofficer(self):\n",
    "        worker.showworker(self)\n",
    "        print (\"HRA - House Rent Allowance is \", self.hra)\n",
    "        \n",
    "class manager(worker):\n",
    "    def __init__(self, c,n,s):\n",
    "        worker.__init__(self,c,n,s)   #worker.__init__(self,c,n,s) is inherited from the same base worker\n",
    "        self.hra=s*60/100\n",
    "        self.da = s*98/100\n",
    "    \n",
    "    def showmanager(self):\n",
    "        worker.showworker(self)\n",
    "        print (\"HRA - House Rent Allowance is \", self.hra)\n",
    "        print (\"DA - Dearness Allowance is \", self.da)\n",
    "        \n",
    "w=worker(101, 'John' , 2000)\n",
    "o=officer(102, 'David', 4000)\n",
    "m=manager(103, 'Ben' , 5000)\n",
    "print (\"Information of worker is \")\n",
    "w.showworker()\n",
    "print (\"\\nInformation of officer is \")\n",
    "o.showofficer()\n",
    "print (\"\\nInformation of manager is \")\n",
    "m.showmanager()"
   ]
  },
  {
   "cell_type": "code",
   "execution_count": 1,
   "id": "43714256",
   "metadata": {},
   "outputs": [],
   "source": [
    "#Multiple Inheritance\n",
    "#If a class is derived from more than one base class, you call it multiple inheritance\n",
    "#check out figure 5.3 in slide 159.\n",
    "\n",
    "#Usually when you need to use themembers of two or more classes (having no connection) via another class,\n",
    "#you combine the features of all those classes by inheriting them\n",
    "\n",
    "#For example, consider the following:\n",
    "\n",
    "#class worker   A\n",
    "\n",
    "#...\n",
    "\n",
    "#class officer  B\n",
    "\n",
    "#...\n",
    "\n",
    "#class manager(worker,officer)   C\n",
    "\n",
    "\n",
    "#The class Cinherits from both Aand B\n",
    "\n",
    "#Now manager can access the publicmembers of workeras well as officer."
   ]
  },
  {
   "cell_type": "code",
   "execution_count": 2,
   "id": "1f7b5894",
   "metadata": {},
   "outputs": [
    {
     "name": "stdout",
     "output_type": "stream",
     "text": [
      "Result of student is \n",
      "Roll :  101\n",
      "Name is  David\n",
      "Physics marks :  65\n",
      "Chemistry marks :  75\n",
      "Total marks :  140\n",
      "Percentage marks :  70.0\n"
     ]
    }
   ],
   "source": [
    "#Multiple Inheritance\n",
    "\n",
    "class student:\n",
    "    def __init__(self, r, n):\n",
    "        self.roll = r\n",
    "        self.name= n\n",
    "        \n",
    "    def showstudent(self):\n",
    "        print (\"Roll : \", self.roll)\n",
    "        print (\"Name is \", self.name)\n",
    "        \n",
    "class science:\n",
    "    def __init__(self, p,c):\n",
    "        self.physics = p\n",
    "        self.chemistry=c\n",
    "\n",
    "    def showscience(self):\n",
    "        print (\"Physics marks : \", self.physics)\n",
    "        print (\"Chemistry marks : \", self.chemistry)\n",
    "\n",
    "        \n",
    "class results(student,science):\n",
    "    def __init__(self, r,n,p,c):\n",
    "        student.__init__(self,r,n)\n",
    "        science.__init__(self,p,c)\n",
    "        self.total = self.physics+self.chemistry\n",
    "        self.percentage=self.total/200*100\n",
    "        \n",
    "    def showresults(self):\n",
    "        student.showstudent(self)\n",
    "        science.showscience(self)\n",
    "        print (\"Total marks : \", self.total)\n",
    "        print (\"Percentage marks : \", self.percentage)\n",
    "        \n",
    "        \n",
    "s=results(101, 'David', 65, 75)\n",
    "print (\"Result of student is \")\n",
    "s.showresults()"
   ]
  },
  {
   "cell_type": "code",
   "execution_count": 3,
   "id": "28fc7ec4",
   "metadata": {},
   "outputs": [
    {
     "name": "stdout",
     "output_type": "stream",
     "text": [
      "Area of rectangle is  40\n"
     ]
    }
   ],
   "source": [
    "#Two Base Classes Having a Method with the Same Name and Signature\n",
    "#What will happen if the two classes that are derived by a third class contain\n",
    "#a method with the same signature?\n",
    "\n",
    "#The answer is that the method of the class A will be executed.\n",
    "\n",
    "from __future__ import division\n",
    "\n",
    "class rect:\n",
    "    def __init__(self):\n",
    "        self.l = 8\n",
    "        self.b = 5\n",
    "        \n",
    "    def area(self):\n",
    "        return self.l * self.b\n",
    "    \n",
    "class triangle:\n",
    "    def __init__(self):\n",
    "        self.x = 17\n",
    "        self.y = 13\n",
    "\n",
    "    def area(self):\n",
    "        return 1/2*self.x * self.y\n",
    "    \n",
    "class both(rect, triangle):\n",
    "    pass\n",
    "\n",
    "#creating the increment\n",
    "r=both()\n",
    "print (\"Area of rectangle is \", r.area())"
   ]
  },
  {
   "cell_type": "code",
   "execution_count": 4,
   "id": "1e399cc0",
   "metadata": {},
   "outputs": [],
   "source": [
    "#Operator Overloading\n",
    "#To overload a standard operator means that you apply arithmetic operators\n",
    "#to a class instance to perform the desired operations\n",
    "\n",
    "#You can add,subtract, multiply, and divide instances using the standard operators in the\n",
    "#same way they are used with numbers\n",
    "\n",
    "#For example, the __add__method is used to add instances just as the plus operator (+) does\n",
    "\n",
    "#When you use an operator such as +, Python calls the special method __add__in the background\n",
    "\n"
   ]
  },
  {
   "cell_type": "code",
   "execution_count": 6,
   "id": "70bd28b8",
   "metadata": {},
   "outputs": [
    {
     "name": "stdout",
     "output_type": "stream",
     "text": [
      "Added together is:  Length is 15, Breadth is 28\n",
      "Area of rectangle is  420\n"
     ]
    }
   ],
   "source": [
    "#Operator Overloading\n",
    "\n",
    "class rect:\n",
    "    def __init__(self, x,y):\n",
    "        self.l = x\n",
    "        self.b = y\n",
    "\n",
    "    def __str__(self):\n",
    "        return 'Length is %d, Breadth is %d' %(self.l, self.b)\n",
    "    \n",
    "    def __add__(self, other):\n",
    "        return rect(self.l+ other.l, self.b+other.b)\n",
    "    \n",
    "    def rectarea(self):\n",
    "        return self.l * self.b\n",
    "    \n",
    "r1=rect(5,8)  #self\n",
    "r2=rect(10,20)  #other\n",
    "r3=r1+r2\n",
    "print ('Added together is: ',r3)\n",
    "print (\"Area of rectangle is \", r3.rectarea())\n",
    "\n",
    "\n",
    "#basically here r1 values are added to r2 values"
   ]
  },
  {
   "cell_type": "code",
   "execution_count": 7,
   "id": "04baa0ec",
   "metadata": {},
   "outputs": [
    {
     "name": "stdout",
     "output_type": "stream",
     "text": [
      "Commission of Stockist is 5.00\n",
      "Commission of Distributor is 8.00\n",
      "Commission of Retailer is 10.00\n"
     ]
    }
   ],
   "source": [
    "#Polymorphism\n",
    "#Poly means many, and morph means change.\n",
    "#Through polymorphism, you can have a method with the same name in different classes to perform\n",
    "#different tasks.\n",
    "\n",
    "\n",
    "class book:\n",
    "    def __init__(self,x):\n",
    "        self.price = x\n",
    "\n",
    "        \n",
    "class stockist(book):\n",
    "    def __init__(self,x):\n",
    "        book.__init__(self,x)\n",
    "        \n",
    "    def commission(self):  #name that will be common comission()\n",
    "        self.comm=self.price*5/100\n",
    "        print (\"Commission of Stockist is %.2f\" %self.comm)\n",
    "\n",
    "\n",
    "class distributor(book):\n",
    "    def __init__(self,x):\n",
    "        book.__init__(self,x)\n",
    "\n",
    "    def commission(self):   #name that will be the same is comission() like the one before\n",
    "        self.comm=self.price*8/100\n",
    "        print (\"Commission of Distributor is %.2f\" %self.comm)\n",
    "\n",
    "\n",
    "\n",
    "class retailer(book):\n",
    "    def __init__(self,x):\n",
    "        book.__init__(self,x)\n",
    "    \n",
    "    def commission(self):    #name that will be the same is comission() like the one before\n",
    "        self.comm=self.price*10/100\n",
    "        print (\"Commission of Retailer is %.2f\" %self.comm)\n",
    "\n",
    "            \n",
    "r = stockist(100)\n",
    "s = distributor(100)\n",
    "t = retailer(100)\n",
    "prncomm = [r,s,t]\n",
    "for c in prncomm:\n",
    "    c.commission()"
   ]
  },
  {
   "cell_type": "code",
   "execution_count": 11,
   "id": "f40bbb8b",
   "metadata": {},
   "outputs": [
    {
     "name": "stdout",
     "output_type": "stream",
     "text": [
      "Getting product name  Camera\n",
      "Setting product name: Cell\n",
      "Getting product name  Cell\n"
     ]
    }
   ],
   "source": [
    "#Properties slide 166\n",
    "#Properties are used to manage attributes with get/setmethod\n",
    "#In earlier versions of Python, management of attributes was done by overriding\n",
    "#__getattr__and __setattr__methods\n",
    "#To avoid the overhead of overriding these two methods, properties are used\n",
    "#You use properties to reroute an attribute’s set, get, or even deleteoperation to a function.\n",
    "\n",
    "class product(object):\n",
    "    def __init__(self, name):\n",
    "        self._name = name\n",
    "        \n",
    "    def set_name(self, name):\n",
    "        print ('Setting product name: %s' % name)\n",
    "        self._name = name\n",
    "        \n",
    "    def get_name(self):\n",
    "        return self._name\n",
    "\n",
    "    def del_name(self):\n",
    "        del self._name\n",
    "        \n",
    "    name = property(get_name, set_name)   #property fucntion, property(get_attribute, set_attribute)\n",
    "    \n",
    "p = product('Camera')\n",
    "print('Getting product name ', p.name)\n",
    "p.name='Cell'\n",
    "print('Getting product name ', p.name)\n"
   ]
  },
  {
   "cell_type": "code",
   "execution_count": 12,
   "id": "fbfb2ca8",
   "metadata": {},
   "outputs": [],
   "source": [
    "#Descriptors slide 167\n",
    "#There is another way to manage instance attributes, descriptors. A\n",
    "#descriptor is a superset of properties.\n",
    "\n",
    "#Descriptors are classes that enable us to manage instance attributes efficiently.\n",
    "\n",
    "#To manage instance attributes, three methods are used:__set__, __get__, and __delete__. \n",
    "\n",
    "#The descriptors are of two types:\n",
    "\n",
    "# -Non-data descriptor —The class that implements only the __get__\n",
    "#method for an object is known as a non-data descriptor.\n",
    "\n",
    "# -Data descriptor —The class that implements __delete__and __set__\n",
    "#methods as well as the __get__method for an object is known as a\n",
    "#data descriptor\n",
    "\n",
    "#The syntax for coding descriptors is this:\n",
    "#class Descriptor:\n",
    "#    def __get__(self, instance, owner):\n",
    "# ........\n",
    "#   def __set__(self, instance, value):\n",
    "#.........\n",
    "#   def __delete__(self, instance):\n",
    "#.........\n",
    "\n"
   ]
  },
  {
   "cell_type": "code",
   "execution_count": 13,
   "id": "1c5745e9",
   "metadata": {},
   "outputs": [
    {
     "name": "stdout",
     "output_type": "stream",
     "text": [
      "Getting attribute butter\n",
      "7\n",
      "Setting attribute butter\n",
      "Getting attribute butter\n",
      "10\n"
     ]
    }
   ],
   "source": [
    "#Descriptors slide 167\n",
    "\n",
    "class product:\n",
    "    def __init__(self, name, x=5):\n",
    "        self.name = name\n",
    "        self.price=x\n",
    "\n",
    "    def __set__(self, obj, value):\n",
    "        print ('Setting attribute' , self.name)\n",
    "        self.price = value\n",
    "\n",
    "    def __get__(self, obj, objtype):\n",
    "        print ('Getting attribute',self.name)\n",
    "        return self.price\n",
    "    \n",
    "class cart:\n",
    "    p = product('butter',7)\n",
    "    \n",
    "k=cart()  \n",
    "print(k.p)\n",
    "k.p=10\n",
    "print(k.p)\n"
   ]
  },
  {
   "cell_type": "code",
   "execution_count": null,
   "id": "ac4264b5",
   "metadata": {},
   "outputs": [],
   "source": [
    "#To read and write class attributes, you can use the __getattr__and\n",
    "\n",
    "#__setattr__methods\n",
    "#This will result in an infinite number of recursive calls to __setattr__.\n",
    "#Hence, you use dictionaryto assign values to the instance variables:\n",
    "\n",
    "#def __setattr__(self, name, value):\n",
    "#   self.__dict__[name] = value\n",
    "\n",
    "#The __setattr__method can also be used to perform type checking on\n",
    "#values before assigning them to instance variables.\n",
    "\n",
    "#The __getattr__ Method\n",
    "#The __getattr__method fetches an attribute of an instance using a string\n",
    "#object and is called when attribute lookup fails, that is, when you try to\n",
    "#access an undefined attribute.The __getattr__method should either\n",
    "#return the value (of any type) of the instance variable or raise an\n",
    "#AttributeErrorexception.\n",
    "\n",
    "#def __getattr__(self, name):\n",
    "#      return self.name\n",
    "\n",
    "\n",
    "#The __delattr__ Method\n",
    "#The __delattr__method is called when an attribute of an instance is\n",
    "#deleted via the delstatement.\n",
    "\n",
    "#def __delattr__(self, name):\n",
    "#     del self.name"
   ]
  }
 ],
 "metadata": {
  "kernelspec": {
   "display_name": "Python 3 (ipykernel)",
   "language": "python",
   "name": "python3"
  },
  "language_info": {
   "codemirror_mode": {
    "name": "ipython",
    "version": 3
   },
   "file_extension": ".py",
   "mimetype": "text/x-python",
   "name": "python",
   "nbconvert_exporter": "python",
   "pygments_lexer": "ipython3",
   "version": "3.9.13"
  }
 },
 "nbformat": 4,
 "nbformat_minor": 5
}
