{
 "cells": [
  {
   "cell_type": "code",
   "execution_count": 1,
   "id": "24b3a640",
   "metadata": {},
   "outputs": [
    {
     "name": "stdout",
     "output_type": "stream",
     "text": [
      "Is the  data.txt  close?  False\n",
      "Name of the file is  data.txt\n",
      "Opening mode of file data.txt  is:  r\n",
      "The file descriptor is  4\n",
      "Is the  data.txt  close?  True\n"
     ]
    }
   ],
   "source": [
    "#determining attributes of a file\n",
    "\n",
    "fileName='data.txt'\n",
    "\n",
    "z=open(fileName,'r')\n",
    "\n",
    "print('Is the ',fileName,' close? ',z.closed)\n",
    "print('Name of the file is ',z.name)\n",
    "print('Opening mode of file',fileName,' is: ', z.mode)\n",
    "print('The file descriptor is ', z.fileno())\n",
    "\n",
    "z.close()\n",
    "print('Is the ',fileName,' close? ',z.closed)"
   ]
  },
  {
   "cell_type": "code",
   "execution_count": 6,
   "id": "f9cd6294",
   "metadata": {},
   "outputs": [
    {
     "name": "stdout",
     "output_type": "stream",
     "text": [
      "Enter file name: data.txt\n",
      "Different ways to display\n",
      "\n",
      "Option1 to display: \n",
      "The fox in the tophat whispered into the ear of the rabbit.\n",
      "\n",
      " Option2 to display: \n",
      "The fox in the tophat whispered into the ear of the rabbit.The fox in the tophat whispered into the ear of the rabbit.The fox in the tophat whispered into the ear of the rabbit.The fox in the tophat whispered into the ear of the rabbit.The fox in the tophat whispered into the ear of the rabbit.The fox in the tophat whispered into the ear of the rabbit.The fox in the tophat whispered into the ear of the rabbit.The fox in the tophat whispered into the ear of the rabbit.The fox in the tophat whispered into the ear of the rabbit.The fox in the tophat whispered into the ear of the rabbit.The fox in the tophat whispered into the ear of the rabbit.The fox in the tophat whispered into the ear of the rabbit.The fox in the tophat whispered into the ear of the rabbit.The fox in the tophat whispered into the ear of the rabbit.The fox in the tophat whispered into the ear of the rabbit.The fox in the tophat whispered into the ear of the rabbit.The fox in the tophat whispered into the ear of the rabbit.The fox in the tophat whispered into the ear of the rabbit.The fox in the tophat whispered into the ear of the rabbit.The fox in the tophat whispered into the ear of the rabbit.The fox in the tophat whispered into the ear of the rabbit.The fox in the tophat whispered into the ear of the rabbit.The fox in the tophat whispered into the ear of the rabbit.The fox in the tophat whispered into the ear of the rabbit.The fox in the tophat whispered into the ear of the rabbit.The fox in the tophat whispered into the ear of the rabbit.The fox in the tophat whispered into the ear of the rabbit.The fox in the tophat whispered into the ear of the rabbit.The fox in the tophat whispered into the ear of the rabbit.The fox in the tophat whispered into the ear of the rabbit.The fox in the tophat whispered into the ear of the rabbit.The fox in the tophat whispered into the ear of the rabbit.The fox in the tophat whispered into the ear of the rabbit.The fox in the tophat whispered into the ear of the rabbit.The fox in the tophat whispered into the ear of the rabbit.The fox in the tophat whispered into the ear of the rabbit.The fox in the tophat whispered into the ear of the rabbit.The fox in the tophat whispered into the ear of the rabbit.The fox in the tophat whispered into the ear of the rabbit.The fox in the tophat whispered into the ear of the rabbit.The fox in the tophat whispered into the ear of the rabbit.The fox in the tophat whispered into the ear of the rabbit.The fox in the tophat whispered into the ear of the rabbit.The fox in the tophat whispered into the ear of the rabbit.The fox in the tophat whispered into the ear of the rabbit.The fox in the tophat whispered into the ear of the rabbit.The fox in the tophat whispered into the ear of the rabbit.The fox in the tophat whispered into the ear of the rabbit.The fox in the tophat whispered into the ear of the rabbit.The fox in the tophat whispered into the ear of the rabbit.The fox in the tophat whispered into the ear of the rabbit.The fox in the tophat whispered into the ear of the rabbit.The fox in the tophat whispered into the ear of the rabbit.The fox in the tophat whispered into the ear of the rabbit.The fox in the tophat whispered into the ear of the rabbit.The fox in the tophat whispered into the ear of the rabbit.The fox in the tophat whispered into the ear of the rabbit.The fox in the tophat whispered into the ear of the rabbit.The fox in the tophat whispered into the ear of the rabbit.\n",
      " Option3 to display: \n",
      "The fox in the tophat whispered into the ear of the rabbit."
     ]
    }
   ],
   "source": [
    "#if you are reading from a file and the file does not exist, the file will\n",
    "#read an error message: IOError: [Errno 2]No such file or directory: 'aboutbook.txt'\n",
    "\n",
    "#You can make the error message more readable through exception handling. 'try' and 'except' are are 2\n",
    "#reverved words\n",
    "\n",
    "import sys\n",
    "\n",
    "fileName=input('Enter file name: ')\n",
    "\n",
    "try:\n",
    "    s=open(fileName,'r')\n",
    "    info=s.read()\n",
    "    \n",
    "except IOError:    #here after except, put the error type\n",
    "    print('File not does not exist!')\n",
    "    sys.exit(1)\n",
    "s.close()\n",
    "\n",
    "print('Different ways to display')\n",
    "\n",
    "#option1 to display\n",
    "print('\\nOption1 to display: ')\n",
    "print(info)\n",
    "\n",
    "#option2 to display\n",
    "print('\\n Option2 to display: ')\n",
    "for line in info:\n",
    "    sys.stdout.write(info)\n",
    "\n",
    "#option3 to display\n",
    "print('\\n Option3 to display: ')\n",
    "for i in range(0, len(info)):\n",
    "    sys.stdout.write(info[i]) \n",
    "\n"
   ]
  },
  {
   "cell_type": "code",
   "execution_count": 7,
   "id": "a98a474d",
   "metadata": {},
   "outputs": [
    {
     "name": "stdout",
     "output_type": "stream",
     "text": [
      "\n",
      "The fox in the tophat whispered into the ear of the rabbit.\n"
     ]
    }
   ],
   "source": [
    "#read from one file and copy to another\n",
    "\n",
    "fileName='data.txt'   #using the existing file already\n",
    "\n",
    "#reading the file first\n",
    "a=open(fileName,'r')\n",
    "information=a.read()\n",
    "a.close()\n",
    "\n",
    "\n",
    "#puting it in another file\n",
    "secondFile='second.txt'\n",
    "b=open(secondFile, 'w')\n",
    "b.write(\"\\n%s\" %information)\n",
    "b.close()\n",
    "\n",
    "\n",
    "#reading it from the new file\n",
    "z=open(secondFile)\n",
    "sentence=z.read()\n",
    "a.close()\n",
    "print(sentence)"
   ]
  },
  {
   "cell_type": "code",
   "execution_count": null,
   "id": "57b5b07f",
   "metadata": {},
   "outputs": [],
   "source": []
  }
 ],
 "metadata": {
  "kernelspec": {
   "display_name": "Python 3 (ipykernel)",
   "language": "python",
   "name": "python3"
  },
  "language_info": {
   "codemirror_mode": {
    "name": "ipython",
    "version": 3
   },
   "file_extension": ".py",
   "mimetype": "text/x-python",
   "name": "python",
   "nbconvert_exporter": "python",
   "pygments_lexer": "ipython3",
   "version": "3.9.13"
  }
 },
 "nbformat": 4,
 "nbformat_minor": 5
}
