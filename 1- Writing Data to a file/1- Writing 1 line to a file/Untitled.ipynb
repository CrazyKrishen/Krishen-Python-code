{
 "cells": [
  {
   "cell_type": "code",
   "execution_count": 6,
   "id": "c896be5b",
   "metadata": {},
   "outputs": [
    {
     "name": "stdout",
     "output_type": "stream",
     "text": [
      "Please enter a sentence: fine ass\n",
      "\n",
      "\n",
      "fine ass\n"
     ]
    }
   ],
   "source": [
    "#writing it to a file\n",
    "#Here step 1 and 2 are important in writing\n",
    "\n",
    "\n",
    "#sentence gets stored in a variable\n",
    "mysentence=input('Please enter a sentence: ')\n",
    "\n",
    "myFileName='dataOutput.txt'\n",
    "\n",
    "#step1 youve got to open a file \n",
    "#the'w' stands for write because we writing to a file, open(myFileName,letterOfAction)\n",
    "#letterOfAction is 'r'=read   or 'w'=write\n",
    "#open this file and equate it to a variable \n",
    "f =open(myFileName,'w')   \n",
    "\n",
    "\n",
    "\n",
    "#step2 use the write fucntion and the equated variable\n",
    "f.write('\\n%s' %mysentence)     #'\\n%s' must always be there\n",
    "\n",
    "#step2 close fucntion\n",
    "f.close()\n",
    "\n",
    "\n",
    "\n",
    "#step3 lets read whats stored in the file\n",
    "m=open(myFileName)  # a- open the file\n",
    "\n",
    "while True:         # b- read file\n",
    "    sentence=m.readline()      #variable.readline() is a readline fucntion\n",
    "    \n",
    "    if len(sentence)==0:\n",
    "        break\n",
    "    print(sentence)   \n",
    "        \n",
    "m.close()           #c- close file\n"
   ]
  },
  {
   "cell_type": "code",
   "execution_count": null,
   "id": "431e0bbb",
   "metadata": {},
   "outputs": [],
   "source": []
  }
 ],
 "metadata": {
  "kernelspec": {
   "display_name": "Python 3 (ipykernel)",
   "language": "python",
   "name": "python3"
  },
  "language_info": {
   "codemirror_mode": {
    "name": "ipython",
    "version": 3
   },
   "file_extension": ".py",
   "mimetype": "text/x-python",
   "name": "python",
   "nbconvert_exporter": "python",
   "pygments_lexer": "ipython3",
   "version": "3.9.13"
  }
 },
 "nbformat": 4,
 "nbformat_minor": 5
}
