{
 "cells": [
  {
   "cell_type": "code",
   "execution_count": 8,
   "id": "f4810884",
   "metadata": {},
   "outputs": [
    {
     "name": "stdout",
     "output_type": "stream",
     "text": [
      "1\n",
      "2\n",
      "3\n",
      "4\n",
      "5\n",
      "6\n",
      "7\n",
      "8\n",
      "9\n",
      "10\n"
     ]
    }
   ],
   "source": [
    "#using a for loop \n",
    "#Displaying 1 to 10\n",
    "\n",
    "for values in range (1,11):\n",
    "    print(values)"
   ]
  },
  {
   "cell_type": "code",
   "execution_count": 13,
   "id": "ae82e0f1",
   "metadata": {},
   "outputs": [
    {
     "name": "stdout",
     "output_type": "stream",
     "text": [
      "2\n",
      "4\n",
      "6\n",
      "8\n",
      "10\n"
     ]
    }
   ],
   "source": [
    "#using a for loop \n",
    "#Displaying 1 to 10 counting in 2s\n",
    "\n",
    "for counting in range (2,11,2):   #take note 'in range' is within the range\n",
    "    print(counting)               #for counting in range (initial, final, incremental)"
   ]
  },
  {
   "cell_type": "code",
   "execution_count": 16,
   "id": "2075ed89",
   "metadata": {},
   "outputs": [
    {
     "name": "stdout",
     "output_type": "stream",
     "text": [
      "Please enter starting value: 1\n",
      "Please enter ending value: 10\n",
      "1\n",
      "2\n",
      "3\n",
      "4\n",
      "5\n",
      "6\n",
      "7\n",
      "8\n",
      "9\n",
      "10\n"
     ]
    }
   ],
   "source": [
    "#proming user to put values in a for loop\n",
    "\n",
    "a=int(input('Please enter starting value: '))\n",
    "b=int(input('Please enter ending value: '))\n",
    "\n",
    "for values in range (a,b+1):\n",
    "    print(values)"
   ]
  },
  {
   "cell_type": "code",
   "execution_count": 17,
   "id": "e39a485b",
   "metadata": {},
   "outputs": [
    {
     "name": "stdout",
     "output_type": "stream",
     "text": [
      "52\n",
      "63\n",
      "89\n",
      "48\n",
      "79\n"
     ]
    }
   ],
   "source": [
    "#take note here the word is 'in', not 'in range' for the for loop\n",
    "\n",
    "for values in (52,63,89,48,79):\n",
    "    print(values)       #it will only print the numbers thats in the set only"
   ]
  },
  {
   "cell_type": "code",
   "execution_count": 18,
   "id": "ffae934d",
   "metadata": {},
   "outputs": [
    {
     "name": "stdout",
     "output_type": "stream",
     "text": [
      "python\n",
      "basics\n",
      "advanced\n",
      "cyber\n"
     ]
    }
   ],
   "source": [
    "#enhancement \n",
    "\n",
    "sessions = ['python', 'basics', 'advanced', 'cyber']\n",
    "\n",
    "for variable in sessions:\n",
    "    print (variable)    #it will print out everything in the array"
   ]
  },
  {
   "cell_type": "code",
   "execution_count": 21,
   "id": "664ad30c",
   "metadata": {},
   "outputs": [
    {
     "name": "stdout",
     "output_type": "stream",
     "text": [
      "Python was a great session!\n",
      "Basics was a great session!\n",
      "Advanced was a great session!\n",
      "Cyber was a great session!\n"
     ]
    }
   ],
   "source": [
    "#enhancement \n",
    "\n",
    "sessions = ['python', 'basics', 'advanced', 'cyber']\n",
    "\n",
    "for variable in sessions:\n",
    "    print (variable.title() +' was a great session!')    #it will print out everything in the array\n",
    "                                                         #.title() is a variable that capitalizes the names"
   ]
  },
  {
   "cell_type": "code",
   "execution_count": 29,
   "id": "66776121",
   "metadata": {},
   "outputs": [
    {
     "name": "stdout",
     "output_type": "stream",
     "text": [
      "10\n",
      "9\n",
      "8\n",
      "7\n",
      "6\n",
      "5\n",
      "4\n",
      "3\n",
      "2\n",
      "1\n"
     ]
    }
   ],
   "source": [
    "#count down using for loop\n",
    "for a in range (10,0,-1):\n",
    "    print(a)"
   ]
  },
  {
   "cell_type": "code",
   "execution_count": 24,
   "id": "e4fcf927",
   "metadata": {},
   "outputs": [
    {
     "name": "stdout",
     "output_type": "stream",
     "text": [
      "Please enter a 13 digit ID: 9804225088083\n",
      "ID is:  9804225088083\n",
      "Added togther is:  57\n"
     ]
    }
   ],
   "source": [
    "#Write a program that uses a FOR loop. The program must prompt the digits of\n",
    "#your ID number. The program must output each digit as well as the sum of the\n",
    "#digits\n",
    "\n",
    "a=int(input('Please enter a 13 digit ID: '))\n",
    "\n",
    "added=0\n",
    "for number in str(a):     #'a' converted toa string\n",
    "\n",
    "    added+=int(number)   #'number' treats each string like an individual integer\n",
    " \n",
    "print('ID is: ',a)\n",
    "print('Added togther is: ',added)"
   ]
  },
  {
   "cell_type": "code",
   "execution_count": null,
   "id": "ba24b014",
   "metadata": {},
   "outputs": [],
   "source": []
  }
 ],
 "metadata": {
  "kernelspec": {
   "display_name": "Python 3 (ipykernel)",
   "language": "python",
   "name": "python3"
  },
  "language_info": {
   "codemirror_mode": {
    "name": "ipython",
    "version": 3
   },
   "file_extension": ".py",
   "mimetype": "text/x-python",
   "name": "python",
   "nbconvert_exporter": "python",
   "pygments_lexer": "ipython3",
   "version": "3.9.13"
  }
 },
 "nbformat": 4,
 "nbformat_minor": 5
}
