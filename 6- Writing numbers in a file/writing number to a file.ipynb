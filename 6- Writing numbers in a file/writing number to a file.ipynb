{
 "cells": [
  {
   "cell_type": "code",
   "execution_count": 1,
   "id": "58e102c0",
   "metadata": {},
   "outputs": [
    {
     "name": "stdout",
     "output_type": "stream",
     "text": [
      "Please enter the files name: numbers.txt\n",
      "How many numbers would you like to write in the file: 2\n",
      "Enter  2  numbers: \n",
      "60\n",
      "90\n",
      "In the file its written:\n",
      "60\n",
      "90\n",
      "Reading from the file and just multiplying them by 2 but not saving them multiplied:\n",
      "120\n",
      "180\n"
     ]
    }
   ],
   "source": [
    "#numbers in a file\n",
    "\n",
    "\n",
    "myFile=input('Please enter the files name: ')\n",
    "\n",
    "a=open(myFile,'w') #start of writing to the file \n",
    "\n",
    "finish=int(input('How many numbers would you like to write in the file: '))\n",
    "\n",
    "print('Enter ',finish,' numbers: ')\n",
    "\n",
    "for i in range(0,finish):\n",
    "    k=input()\n",
    "    \n",
    "    a.write(\"%s\\n\" %k)\n",
    "    \n",
    "a.close() #finished write\n",
    "\n",
    "#open for reading\n",
    "z=open(myFile) \n",
    "\n",
    "numbers=z.readlines()\n",
    "print('In the file its written:')\n",
    "for j in numbers:\n",
    "    print(int(j))\n",
    "\n",
    "print('Reading from the file and just multiplying them by 2 but not saving them multiplied:')   \n",
    "for j in numbers:\n",
    "    print(int(j)*2)\n",
    "z.close() #close for reading\n",
    "\n",
    "\n",
    "\n"
   ]
  },
  {
   "cell_type": "code",
   "execution_count": null,
   "id": "71a27509",
   "metadata": {},
   "outputs": [],
   "source": []
  }
 ],
 "metadata": {
  "kernelspec": {
   "display_name": "Python 3 (ipykernel)",
   "language": "python",
   "name": "python3"
  },
  "language_info": {
   "codemirror_mode": {
    "name": "ipython",
    "version": 3
   },
   "file_extension": ".py",
   "mimetype": "text/x-python",
   "name": "python",
   "nbconvert_exporter": "python",
   "pygments_lexer": "ipython3",
   "version": "3.9.13"
  }
 },
 "nbformat": 4,
 "nbformat_minor": 5
}
