{
 "cells": [
  {
   "cell_type": "code",
   "execution_count": 1,
   "id": "3d46f635",
   "metadata": {},
   "outputs": [
    {
     "name": "stdout",
     "output_type": "stream",
     "text": [
      "hello\n"
     ]
    }
   ],
   "source": [
    "print('hello')"
   ]
  },
  {
   "cell_type": "code",
   "execution_count": null,
   "id": "f8a20ff8",
   "metadata": {},
   "outputs": [],
   "source": [
    "def sum(one,two=22):\n",
    "    return (one+two)\n",
    "\n",
    "#input\n",
    "myNum=int(input(\"please enter a number:\"))\n",
    "nTotal=sum(myNum)\n",
    "print(nTotal)\n",
    "nTotal=sum(myNum, myNum)\n",
    "print(nTotal)"
   ]
  },
  {
   "cell_type": "code",
   "execution_count": null,
   "id": "d3dba00a",
   "metadata": {},
   "outputs": [],
   "source": []
  },
  {
   "cell_type": "code",
   "execution_count": null,
   "id": "f9fa9af7",
   "metadata": {},
   "outputs": [],
   "source": [
    "def sum(one,two=22):\n",
    "    return (one+two)\n",
    "\n",
    "#input\n",
    "myNum=int(input(\"please enter a number:\"))\n",
    "nTotal=sum(myNum)\n",
    "print(nTotal)\n",
    "nTotal=sum(myNum, myNum)\n",
    "print(nTotal)"
   ]
  },
  {
   "cell_type": "code",
   "execution_count": null,
   "id": "941df716",
   "metadata": {},
   "outputs": [],
   "source": []
  }
 ],
 "metadata": {
  "kernelspec": {
   "display_name": "Python 3 (ipykernel)",
   "language": "python",
   "name": "python3"
  },
  "language_info": {
   "codemirror_mode": {
    "name": "ipython",
    "version": 3
   },
   "file_extension": ".py",
   "mimetype": "text/x-python",
   "name": "python",
   "nbconvert_exporter": "python",
   "pygments_lexer": "ipython3",
   "version": "3.9.13"
  }
 },
 "nbformat": 4,
 "nbformat_minor": 5
}
