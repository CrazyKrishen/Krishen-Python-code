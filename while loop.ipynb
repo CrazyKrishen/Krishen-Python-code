{
 "cells": [
  {
   "cell_type": "code",
   "execution_count": 1,
   "id": "1116b1a3",
   "metadata": {},
   "outputs": [],
   "source": [
    "#testing while loops \n",
    "#This one will repeat itself continiously \n",
    "\n",
    "#a=1\n",
    "#while a=<10:\n",
    "#print (a)"
   ]
  },
  {
   "cell_type": "code",
   "execution_count": 3,
   "id": "e0656a23",
   "metadata": {},
   "outputs": [
    {
     "name": "stdout",
     "output_type": "stream",
     "text": [
      "1\n",
      "2\n",
      "3\n",
      "4\n",
      "5\n",
      "6\n",
      "7\n",
      "8\n",
      "9\n",
      "10\n"
     ]
    }
   ],
   "source": [
    "#you have to inclement the while loop to control it\n",
    "\n",
    "a=1\n",
    "\n",
    "while(a<=10):\n",
    "    print(a)\n",
    "    \n",
    "    a=a+1  #this is the increment"
   ]
  },
  {
   "cell_type": "code",
   "execution_count": 4,
   "id": "36145fd9",
   "metadata": {},
   "outputs": [
    {
     "name": "stdout",
     "output_type": "stream",
     "text": [
      "10\n",
      "9\n",
      "8\n",
      "7\n",
      "6\n",
      "5\n",
      "4\n",
      "3\n",
      "2\n",
      "1\n"
     ]
    }
   ],
   "source": [
    "#count down using a while loop\n",
    "a=10\n",
    "\n",
    "while(a>0):\n",
    "    print(a)\n",
    "    \n",
    "    a=a-1"
   ]
  },
  {
   "cell_type": "code",
   "execution_count": 1,
   "id": "0e3afb1c",
   "metadata": {},
   "outputs": [
    {
     "name": "stdout",
     "output_type": "stream",
     "text": [
      "Please enter 2 numbers: 12\n",
      "12\n",
      "Total is:  3\n"
     ]
    }
   ],
   "source": [
    "#Write a program that requests numbers as input from the user. Add these\n",
    "#numbers. The WHILE loop must terminiate once the sum exceeds a\n",
    "#SecretNumber variable value. Please make provision to avoid an infinte loop!\n",
    "\n",
    "a = int(input('Please enter 2 numbers: '))\n",
    "print(a)\n",
    "\n",
    "secretNumber=100\n",
    "\n",
    "while(a>secretNumber):\n",
    "    print('You have entered 2 numbers...')\n",
    "    a = int(input('Please enter 2 numbers: '))\n",
    " \n",
    "total=0\n",
    "for numbers in str(a):\n",
    "    total += int(numbers)\n",
    "    \n",
    "print('Total is: ',total)\n",
    "\n"
   ]
  },
  {
   "cell_type": "code",
   "execution_count": null,
   "id": "473b6788",
   "metadata": {},
   "outputs": [],
   "source": []
  }
 ],
 "metadata": {
  "kernelspec": {
   "display_name": "Python 3 (ipykernel)",
   "language": "python",
   "name": "python3"
  },
  "language_info": {
   "codemirror_mode": {
    "name": "ipython",
    "version": 3
   },
   "file_extension": ".py",
   "mimetype": "text/x-python",
   "name": "python",
   "nbconvert_exporter": "python",
   "pygments_lexer": "ipython3",
   "version": "3.9.13"
  }
 },
 "nbformat": 4,
 "nbformat_minor": 5
}
