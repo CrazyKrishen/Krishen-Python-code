{
 "cells": [
  {
   "cell_type": "code",
   "execution_count": 1,
   "id": "609ce96a",
   "metadata": {},
   "outputs": [
    {
     "name": "stdout",
     "output_type": "stream",
     "text": [
      "hello\n"
     ]
    }
   ],
   "source": [
    "print('hello')"
   ]
  },
  {
   "cell_type": "code",
   "execution_count": 2,
   "id": "f89f242a",
   "metadata": {},
   "outputs": [
    {
     "name": "stdout",
     "output_type": "stream",
     "text": [
      "hello\n"
     ]
    }
   ],
   "source": [
    "print('hello')"
   ]
  },
  {
   "cell_type": "code",
   "execution_count": 3,
   "id": "b0548aeb",
   "metadata": {},
   "outputs": [
    {
     "name": "stdout",
     "output_type": "stream",
     "text": [
      "What type of pet do you have? dog\n",
      "What is the name of your pet? jack\n",
      "I have a DOG named JACK.\n"
     ]
    }
   ],
   "source": [
    "def myPet(pType,pName):\n",
    "    print('I have a %s named %s.' %(pType.upper(), pName.upper()))\n",
    "\n",
    "petType = str(input(\"What type of pet do you have? \"))\n",
    "petName = str(input(\"What is the name of your pet? \"))\n",
    "myPet(petType, petName)"
   ]
  },
  {
   "cell_type": "code",
   "execution_count": 4,
   "id": "1db41dc2",
   "metadata": {},
   "outputs": [
    {
     "ename": "SyntaxError",
     "evalue": "invalid syntax (4033362790.py, line 1)",
     "output_type": "error",
     "traceback": [
      "\u001b[1;36m  File \u001b[1;32m\"C:\\Users\\krish\\AppData\\Local\\Temp\\ipykernel_14128\\4033362790.py\"\u001b[1;36m, line \u001b[1;32m1\u001b[0m\n\u001b[1;33m    def sum(x,y)\u001b[0m\n\u001b[1;37m                ^\u001b[0m\n\u001b[1;31mSyntaxError\u001b[0m\u001b[1;31m:\u001b[0m invalid syntax\n"
     ]
    }
   ],
   "source": [
    "def sum(x,y)\n",
    "    return (x+y)\n",
    "input\n",
    "nFirst=int(input('Number : '))\n",
    "nNext =int(input('Number : '))\n",
    "#processing\n",
    "nTotal=sum(nFirst,nNext)\n",
    "#output\n",
    "print(nTotal)"
   ]
  },
  {
   "cell_type": "code",
   "execution_count": null,
   "id": "43151286",
   "metadata": {},
   "outputs": [],
   "source": [
    "def sum(one,two=22):\n",
    "    return (one+two)\n",
    "\n",
    "#input\n",
    "myNum=int(input(\"please enter a number:\"))\n",
    "nTotal=sum(myNum)\n",
    "print(nTotal)\n",
    "nTotal=sum(myNum, myNum)\n",
    "print(nTotal)"
   ]
  },
  {
   "cell_type": "code",
   "execution_count": null,
   "id": "aec0dbd9",
   "metadata": {},
   "outputs": [],
   "source": []
  },
  {
   "cell_type": "code",
   "execution_count": null,
   "id": "d2a7ae54",
   "metadata": {},
   "outputs": [],
   "source": []
  }
 ],
 "metadata": {
  "kernelspec": {
   "display_name": "Python 3 (ipykernel)",
   "language": "python",
   "name": "python3"
  },
  "language_info": {
   "codemirror_mode": {
    "name": "ipython",
    "version": 3
   },
   "file_extension": ".py",
   "mimetype": "text/x-python",
   "name": "python",
   "nbconvert_exporter": "python",
   "pygments_lexer": "ipython3",
   "version": "3.9.13"
  }
 },
 "nbformat": 4,
 "nbformat_minor": 5
}
