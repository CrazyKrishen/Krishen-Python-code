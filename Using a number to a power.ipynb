{
 "cells": [
  {
   "cell_type": "code",
   "execution_count": 1,
   "id": "20d2dcdb",
   "metadata": {},
   "outputs": [
    {
     "name": "stdout",
     "output_type": "stream",
     "text": [
      "3  to the power  2  is  9\n"
     ]
    }
   ],
   "source": [
    "#Using a number to a power\n",
    "\n",
    "a=3\n",
    "b=2\n",
    "\n",
    "c=a**b\n",
    "\n",
    "print(a, ' to the power ', b , ' is ', c)"
   ]
  },
  {
   "cell_type": "code",
   "execution_count": null,
   "id": "94197a08",
   "metadata": {},
   "outputs": [],
   "source": []
  }
 ],
 "metadata": {
  "kernelspec": {
   "display_name": "Python 3 (ipykernel)",
   "language": "python",
   "name": "python3"
  },
  "language_info": {
   "codemirror_mode": {
    "name": "ipython",
    "version": 3
   },
   "file_extension": ".py",
   "mimetype": "text/x-python",
   "name": "python",
   "nbconvert_exporter": "python",
   "pygments_lexer": "ipython3",
   "version": "3.9.13"
  }
 },
 "nbformat": 4,
 "nbformat_minor": 5
}
