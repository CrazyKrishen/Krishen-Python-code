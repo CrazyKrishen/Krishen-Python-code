{
 "cells": [
  {
   "cell_type": "code",
   "execution_count": 1,
   "id": "013747c5",
   "metadata": {},
   "outputs": [
    {
     "name": "stdout",
     "output_type": "stream",
     "text": [
      "Please enter a sentence: Chocolate\n",
      "Please enter a second sentence: banana\n",
      "\n",
      "\n",
      "Chocolate\n",
      "\n",
      "banana\n"
     ]
    }
   ],
   "source": [
    "#writing 2 lines  to a file\n",
    "#Here step 1 and 2 are important in writing\n",
    "\n",
    "\n",
    "#sentence gets stored in a variable\n",
    "mysentence=input('Please enter a sentence: ')\n",
    "mysentence2=input('Please enter a second sentence: ')\n",
    "\n",
    "myFileName='output2lines.txt'\n",
    "\n",
    "#step1 youve got to open a 1 file \n",
    "\n",
    "f =open(myFileName,'w')   \n",
    "\n",
    "\n",
    "\n",
    "#here use the write funtion using the 2 different variables stored on the same file variable 'f'\n",
    "f.write('\\n%s' %mysentence)     \n",
    "f.write('\\n%s' %mysentence2)\n",
    "#step2 close fucntion\n",
    "f.close()\n",
    "\n",
    "\n",
    "\n",
    "#step3 lets read whats stored in the file\n",
    "m=open(myFileName)  # a- open the file\n",
    "\n",
    "while True:         # b- read file\n",
    "    sentence=m.readline()      #variable.readline() is a readline fucntion\n",
    "    \n",
    "    if len(sentence)==0:\n",
    "        break\n",
    "    print(sentence)   \n",
    "        \n",
    "m.close()           #c- close file\n"
   ]
  },
  {
   "cell_type": "code",
   "execution_count": null,
   "id": "3520ed55",
   "metadata": {},
   "outputs": [],
   "source": []
  }
 ],
 "metadata": {
  "kernelspec": {
   "display_name": "Python 3 (ipykernel)",
   "language": "python",
   "name": "python3"
  },
  "language_info": {
   "codemirror_mode": {
    "name": "ipython",
    "version": 3
   },
   "file_extension": ".py",
   "mimetype": "text/x-python",
   "name": "python",
   "nbconvert_exporter": "python",
   "pygments_lexer": "ipython3",
   "version": "3.9.13"
  }
 },
 "nbformat": 4,
 "nbformat_minor": 5
}
