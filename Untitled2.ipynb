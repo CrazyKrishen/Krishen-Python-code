{
 "cells": [
  {
   "cell_type": "code",
   "execution_count": 1,
   "id": "fc9a0d2f",
   "metadata": {},
   "outputs": [
    {
     "name": "stdout",
     "output_type": "stream",
     "text": [
      "please enter a number:100\n",
      "122\n",
      "200\n"
     ]
    }
   ],
   "source": [
    "def sum(one,two=22):\n",
    "    return (one+two)\n",
    "\n",
    "#input\n",
    "myNum=int(input(\"please enter a number:\"))\n",
    "nTotal=sum(myNum)\n",
    "print(nTotal)\n",
    "nTotal=sum(myNum, myNum)\n",
    "print(nTotal)"
   ]
  },
  {
   "cell_type": "code",
   "execution_count": null,
   "id": "ba3f16d3",
   "metadata": {},
   "outputs": [],
   "source": [
    "def myMonth(xMonth):\n",
    "    months = ['Jan','Feb','March','April','May','June','July','Aug','Sep','Oct','Nov','Dec']\n",
    "    if 1 <= xMonth <= 12:\n",
    "        sPrint = 'The month is ' + months[xMonth-1]\n",
    "        sMonth = months[xMonth-1]\n",
    "    else:\n",
    "        sPrint = 'Value is out of the range'\n",
    "    return (sPrint)\n",
    "\n",
    "nMonth = int(input(\"What is the current month? \"))\n",
    "print(myMonth(nMonth))"
   ]
  },
  {
   "cell_type": "code",
   "execution_count": null,
   "id": "602c9f06",
   "metadata": {},
   "outputs": [],
   "source": [
    "def myPet(pType,pName):   \n",
    "   print('I have a %s named %s.' %(pType.lower(), pName.title()))\n",
    "\n",
    "petType = str(input(\"What type of pet do you have? \"))\n",
    "petName = str(input(\"What is the name of your pet? \"))\n",
    "myPet(petType, petName)"
   ]
  },
  {
   "cell_type": "code",
   "execution_count": null,
   "id": "5c3eae1f",
   "metadata": {},
   "outputs": [],
   "source": []
  }
 ],
 "metadata": {
  "kernelspec": {
   "display_name": "Python 3 (ipykernel)",
   "language": "python",
   "name": "python3"
  },
  "language_info": {
   "codemirror_mode": {
    "name": "ipython",
    "version": 3
   },
   "file_extension": ".py",
   "mimetype": "text/x-python",
   "name": "python",
   "nbconvert_exporter": "python",
   "pygments_lexer": "ipython3",
   "version": "3.9.13"
  }
 },
 "nbformat": 4,
 "nbformat_minor": 5
}
