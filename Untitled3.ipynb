{
 "cells": [
  {
   "cell_type": "code",
   "execution_count": 1,
   "id": "e6482c19",
   "metadata": {},
   "outputs": [
    {
     "name": "stdout",
     "output_type": "stream",
     "text": [
      "What type of pet do you have? CAT\n",
      "What is the name of your pet? FRED\n",
      "I have a cat named Fred.\n"
     ]
    }
   ],
   "source": [
    "def myPet(pType,pName):   \n",
    "   print('I have a %s named %s.' %(pType.lower(), pName.title()))\n",
    "\n",
    "petType = str(input(\"What type of pet do you have? \"))\n",
    "petName = str(input(\"What is the name of your pet? \"))\n",
    "myPet(petType, petName)"
   ]
  },
  {
   "cell_type": "code",
   "execution_count": 2,
   "id": "0caf2fa7",
   "metadata": {},
   "outputs": [
    {
     "name": "stdout",
     "output_type": "stream",
     "text": [
      "Enter a start number : 8\n",
      "Enter an end number: 10\n",
      "[64, 81]\n"
     ]
    }
   ],
   "source": [
    "def square(nNum):\n",
    "    return (nNum*nNum)\n",
    "#input\n",
    "nStart=int(input('Enter a start number : '))\n",
    "nEnd=int(input('Enter an end number: '))\n",
    "#process\n",
    "mySquare=map(square, range(nStart,nEnd))\n",
    "#output\n",
    "print(list(mySquare))"
   ]
  },
  {
   "cell_type": "code",
   "execution_count": 3,
   "id": "a2146b42",
   "metadata": {},
   "outputs": [
    {
     "ename": "IndentationError",
     "evalue": "expected an indented block (3694635690.py, line 2)",
     "output_type": "error",
     "traceback": [
      "\u001b[1;36m  File \u001b[1;32m\"C:\\Users\\krish\\AppData\\Local\\Temp\\ipykernel_14044\\3694635690.py\"\u001b[1;36m, line \u001b[1;32m2\u001b[0m\n\u001b[1;33m    return (x%2 !=0)\u001b[0m\n\u001b[1;37m    ^\u001b[0m\n\u001b[1;31mIndentationError\u001b[0m\u001b[1;31m:\u001b[0m expected an indented block\n"
     ]
    }
   ],
   "source": [
    "def myVal(x):   \n",
    "return (x%2 !=0)\n",
    "#input\n",
    "nStart=int(input('Enter a start number : '))\n",
    "nEnd=int(input('Enter an end number: '))\n",
    "#processing\n",
    "myVals=filter(myVal, range(nStart,nEnd))\n",
    "#output\n",
    "print(list(myVals))"
   ]
  },
  {
   "cell_type": "code",
   "execution_count": 4,
   "id": "b1e27748",
   "metadata": {},
   "outputs": [
    {
     "ename": "IndentationError",
     "evalue": "expected an indented block (3694635690.py, line 2)",
     "output_type": "error",
     "traceback": [
      "\u001b[1;36m  File \u001b[1;32m\"C:\\Users\\krish\\AppData\\Local\\Temp\\ipykernel_14044\\3694635690.py\"\u001b[1;36m, line \u001b[1;32m2\u001b[0m\n\u001b[1;33m    return (x%2 !=0)\u001b[0m\n\u001b[1;37m    ^\u001b[0m\n\u001b[1;31mIndentationError\u001b[0m\u001b[1;31m:\u001b[0m expected an indented block\n"
     ]
    }
   ],
   "source": [
    "def myVal(x):   \n",
    "return (x%2 !=0)\n",
    "#input\n",
    "nStart=int(input('Enter a start number : '))\n",
    "nEnd=int(input('Enter an end number: '))\n",
    "#processing\n",
    "myVals=filter(myVal, range(nStart,nEnd))\n",
    "#output\n",
    "print(list(myVals))"
   ]
  },
  {
   "cell_type": "code",
   "execution_count": 6,
   "id": "40ab64b7",
   "metadata": {},
   "outputs": [
    {
     "ename": "SyntaxError",
     "evalue": "unexpected EOF while parsing (1060793035.py, line 9)",
     "output_type": "error",
     "traceback": [
      "\u001b[1;36m  File \u001b[1;32m\"C:\\Users\\krish\\AppData\\Local\\Temp\\ipykernel_14044\\1060793035.py\"\u001b[1;36m, line \u001b[1;32m9\u001b[0m\n\u001b[1;33m    print(list(myVals)\u001b[0m\n\u001b[1;37m                      ^\u001b[0m\n\u001b[1;31mSyntaxError\u001b[0m\u001b[1;31m:\u001b[0m unexpected EOF while parsing\n"
     ]
    }
   ],
   "source": [
    "def myVal(x):   \n",
    "    return (x%2 !=0)\n",
    "#input\n",
    "nStart=int(input('Enter a start number : '))\n",
    "nEnd=int(input('Enter an end number: '))\n",
    "#processing\n",
    "myVals=filter(myVal, range(nStart,nEnd))\n",
    "#output\n",
    "print(list(myVals)"
   ]
  },
  {
   "cell_type": "code",
   "execution_count": 7,
   "id": "8b0c6d1a",
   "metadata": {},
   "outputs": [
    {
     "ename": "SyntaxError",
     "evalue": "unexpected EOF while parsing (3513715986.py, line 12)",
     "output_type": "error",
     "traceback": [
      "\u001b[1;36m  File \u001b[1;32m\"C:\\Users\\krish\\AppData\\Local\\Temp\\ipykernel_14044\\3513715986.py\"\u001b[1;36m, line \u001b[1;32m12\u001b[0m\n\u001b[1;33m    print(list(myVals)\u001b[0m\n\u001b[1;37m                      ^\u001b[0m\n\u001b[1;31mSyntaxError\u001b[0m\u001b[1;31m:\u001b[0m unexpected EOF while parsing\n"
     ]
    }
   ],
   "source": [
    "def myVal(x):\n",
    "    return (x%2 !=0)\n",
    "\n",
    "\n",
    "\n",
    "#input\n",
    "nStart=int(input('Enter a start number : '))\n",
    "nEnd=int(input('Enter an end number: '))\n",
    "#processing\n",
    "myVals=filter(myVal, range(nStart,nEnd))\n",
    "#output\n",
    "print(list(myVals)"
   ]
  },
  {
   "cell_type": "code",
   "execution_count": 9,
   "id": "07890ea6",
   "metadata": {},
   "outputs": [
    {
     "ename": "IndentationError",
     "evalue": "expected an indented block (1939362407.py, line 2)",
     "output_type": "error",
     "traceback": [
      "\u001b[1;36m  File \u001b[1;32m\"C:\\Users\\krish\\AppData\\Local\\Temp\\ipykernel_14044\\1939362407.py\"\u001b[1;36m, line \u001b[1;32m2\u001b[0m\n\u001b[1;33m    return (x%2 =0)\u001b[0m\n\u001b[1;37m    ^\u001b[0m\n\u001b[1;31mIndentationError\u001b[0m\u001b[1;31m:\u001b[0m expected an indented block\n"
     ]
    }
   ],
   "source": [
    "def myVal(x):   \n",
    "return (x%2 !=0)\n",
    "#input\n",
    "nStart=int(input('Enter a start number : '))\n",
    "nEnd=int(input('Enter an end number: '))\n",
    "#processing\n",
    "myVals=filter(myVal, range(nStart,nEnd))\n",
    "#output\n",
    "print(list(myVals))"
   ]
  },
  {
   "cell_type": "code",
   "execution_count": null,
   "id": "c47907ba",
   "metadata": {},
   "outputs": [],
   "source": []
  }
 ],
 "metadata": {
  "kernelspec": {
   "display_name": "Python 3 (ipykernel)",
   "language": "python",
   "name": "python3"
  },
  "language_info": {
   "codemirror_mode": {
    "name": "ipython",
    "version": 3
   },
   "file_extension": ".py",
   "mimetype": "text/x-python",
   "name": "python",
   "nbconvert_exporter": "python",
   "pygments_lexer": "ipython3",
   "version": "3.9.13"
  }
 },
 "nbformat": 4,
 "nbformat_minor": 5
}
