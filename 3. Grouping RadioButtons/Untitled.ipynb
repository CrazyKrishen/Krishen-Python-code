{
 "cells": [
  {
   "cell_type": "code",
   "execution_count": 1,
   "id": "b3dd059c-8b63-4111-8e69-decac9b166a6",
   "metadata": {},
   "outputs": [
    {
     "name": "stderr",
     "output_type": "stream",
     "text": [
      "C:\\Users\\krish\\AppData\\Local\\Temp\\ipykernel_118520\\425753105.py:4: DeprecationWarning: sipPyTypeDict() is deprecated, the extension module should use sipPyTypeDictRef() instead\n",
      "  class MyForm(QDialog):\n"
     ]
    },
    {
     "ename": "SystemExit",
     "evalue": "0",
     "output_type": "error",
     "traceback": [
      "An exception has occurred, use %tb to see the full traceback.\n",
      "\u001b[1;31mSystemExit\u001b[0m\u001b[1;31m:\u001b[0m 0\n"
     ]
    },
    {
     "name": "stderr",
     "output_type": "stream",
     "text": [
      "C:\\Users\\krish\\anaconda3\\Lib\\site-packages\\IPython\\core\\interactiveshell.py:3561: UserWarning: To exit: use 'exit', 'quit', or Ctrl-D.\n",
      "  warn(\"To exit: use 'exit', 'quit', or Ctrl-D.\", stacklevel=1)\n"
     ]
    }
   ],
   "source": [
    "import sys\n",
    "from PyQt5.QtWidgets import QDialog, QApplication\n",
    "from demoRadioButton2 import *\n",
    "class MyForm(QDialog):\n",
    "    def __init__(self):\n",
    "        super().__init__()\n",
    "        self.ui = Ui_Dialog()\n",
    "        self.ui.setupUi(self)\n",
    "        self.ui.radioButtonMedium.toggled.connect(self.dispSelected)\n",
    "        self.ui.radioButtonLarge.toggled.connect(self.dispSelected)\n",
    "        self.ui.radioButtonXL.toggled.connect(self.dispSelected)\n",
    "        self.ui.radioButtonXXL.toggled.connect(self.dispSelected)\n",
    "        self.ui.radioButtonDebitCard.toggled.connect(self.dispSelected)\n",
    "        self.ui.radioButtonNetBanking.toggled.connect(self.dispSelected)\n",
    "        self.ui.radioButtonCashOnDelivery.toggled.connect(self.dispSelected)\n",
    "        self.show()\n",
    "    def dispSelected(self):\n",
    "        selected1=\"\"\n",
    "        selected2=\"\"\n",
    "        if self.ui.radioButtonMedium.isChecked()==True:\n",
    "            selected1=\"Medium\"\n",
    "        if self.ui.radioButtonLarge.isChecked()==True:\n",
    "            selected1=\"Large\"\n",
    "        if self.ui.radioButtonXL.isChecked()==True:\n",
    "            selected1=\"Extra Large\"\n",
    "        if self.ui.radioButtonXXL.isChecked()==True:\n",
    "            selected1=\"Extra Extra Large\"\n",
    "        if self.ui.radioButtonDebitCard.isChecked()==True:\n",
    "            selected2=\"Debit/Credit Card\"\n",
    "        if self.ui.radioButtonNetBanking.isChecked()==True:\n",
    "            selected2=\"NetBanking\"\n",
    "        if self.ui.radioButtonCashOnDelivery.isChecked()==True:\n",
    "            selected2=\"Cash On Delivery\"\n",
    "        self.ui.labelSelected.setText(\"Chosen shirt size is \"+selected1+\" and payment method as \" + selected2)\n",
    "\n",
    "if __name__==\"__main__\":\n",
    "    app = QApplication(sys.argv)\n",
    "    w = MyForm()\n",
    "    w.show()\n",
    "    sys.exit(app.exec_())\n",
    "\n",
    "    "
   ]
  },
  {
   "cell_type": "code",
   "execution_count": null,
   "id": "cbbed752-75e5-4147-b5fb-121fdd13b357",
   "metadata": {},
   "outputs": [],
   "source": []
  },
  {
   "cell_type": "code",
   "execution_count": null,
   "id": "d6d52522-756f-403e-beae-cddd652810c1",
   "metadata": {},
   "outputs": [],
   "source": []
  }
 ],
 "metadata": {
  "kernelspec": {
   "display_name": "Python 3 (ipykernel)",
   "language": "python",
   "name": "python3"
  },
  "language_info": {
   "codemirror_mode": {
    "name": "ipython",
    "version": 3
   },
   "file_extension": ".py",
   "mimetype": "text/x-python",
   "name": "python",
   "nbconvert_exporter": "python",
   "pygments_lexer": "ipython3",
   "version": "3.11.7"
  }
 },
 "nbformat": 4,
 "nbformat_minor": 5
}
