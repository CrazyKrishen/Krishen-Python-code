{
 "cells": [
  {
   "cell_type": "code",
   "execution_count": 1,
   "id": "13307bdf-bdae-492d-a527-1431a78bb658",
   "metadata": {},
   "outputs": [
    {
     "name": "stderr",
     "output_type": "stream",
     "text": [
      "C:\\Users\\krish\\AppData\\Local\\Temp\\ipykernel_103072\\936005649.py:4: DeprecationWarning: sipPyTypeDict() is deprecated, the extension module should use sipPyTypeDictRef() instead\n",
      "  class MyForm(QDialog):\n"
     ]
    },
    {
     "ename": "SystemExit",
     "evalue": "0",
     "output_type": "error",
     "traceback": [
      "An exception has occurred, use %tb to see the full traceback.\n",
      "\u001b[1;31mSystemExit\u001b[0m\u001b[1;31m:\u001b[0m 0\n"
     ]
    },
    {
     "name": "stderr",
     "output_type": "stream",
     "text": [
      "C:\\Users\\krish\\anaconda3\\Lib\\site-packages\\IPython\\core\\interactiveshell.py:3561: UserWarning: To exit: use 'exit', 'quit', or Ctrl-D.\n",
      "  warn(\"To exit: use 'exit', 'quit', or Ctrl-D.\", stacklevel=1)\n"
     ]
    }
   ],
   "source": [
    "import sys\n",
    "from PyQt5.QtWidgets import QDialog, QApplication\n",
    "from demoRadioButton1 import *\n",
    "class MyForm(QDialog):\n",
    "    def __init__(self):\n",
    "        super().__init__()\n",
    "        self.ui = Ui_Dialog()\n",
    "        self.ui.setupUi(self)\n",
    "        self.ui.radioButtonFirstClass.toggled.connect(self.dispFare)\n",
    "        self.ui.radioButtonBusinessClass.toggled.connect(self.dispFare)\n",
    "        self.ui.radioButtonEconomyClass.toggled.connect(self.dispFare)\n",
    "        self.show()\n",
    "    def dispFare(self):\n",
    "        fare=0\n",
    "        if self.ui.radioButtonFirstClass.isChecked()==True:\n",
    "            fare=150\n",
    "        if self.ui.radioButtonBusinessClass.isChecked()==True:\n",
    "                fare=125\n",
    "        if self.ui.radioButtonEconomyClass.isChecked()==True:\n",
    "                    fare=100\n",
    "        self.ui.labelFare.setText(\"Air Fare is \"+str(fare))\n",
    "\n",
    "if __name__==\"__main__\":\n",
    " app = QApplication(sys.argv)\n",
    " w = MyForm()\n",
    " w.show()\n",
    " sys.exit(app.exec_())\n",
    "\n",
    "#Methods \n",
    "#The QRadioButton class provides the following methods:\n",
    "#isChecked(): This method returns the Boolean value true if the button is in the selected state.\n",
    "\n",
    "#setIcon(): This method displays an icon with the radio button.\n",
    "\n",
    "#setText(): This method assigns the text to the radio button. If you want to\n",
    "#specify a shortcut key for the radio button, precede the preferred character in the\n",
    "#text with an ampersand (&). The shortcut character will be underlined.\n",
    "\n",
    "#setChecked(): To make any radio button appear selected by default, pass the Boolean value true to this method.\n",
    "\n",
    "\n",
    "\n",
    "#Signal description\n",
    "#Signals emitted by QRadioButton are as follows:\n",
    "#toggled(): This signal is emitted whenever the button changes its state from checked to unchecked or vice versa\n",
    "\n",
    "#clicked(): This signal is emitted when a button is activated (that is, pressed and released) or when its shortcut key is pressed\n",
    "\n",
    "#stateChanged(): This signal is emitted when a radio button changes its state from checked to unchecked or vice versa\n",
    "\n"
   ]
  }
 ],
 "metadata": {
  "kernelspec": {
   "display_name": "Python 3 (ipykernel)",
   "language": "python",
   "name": "python3"
  },
  "language_info": {
   "codemirror_mode": {
    "name": "ipython",
    "version": 3
   },
   "file_extension": ".py",
   "mimetype": "text/x-python",
   "name": "python",
   "nbconvert_exporter": "python",
   "pygments_lexer": "ipython3",
   "version": "3.11.7"
  }
 },
 "nbformat": 4,
 "nbformat_minor": 5
}
