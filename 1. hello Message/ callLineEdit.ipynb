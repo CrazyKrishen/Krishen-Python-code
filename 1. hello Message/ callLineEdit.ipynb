{
 "cells": [
  {
   "cell_type": "code",
   "execution_count": 1,
   "id": "fb56e009-fd7f-460c-b5fa-c71282813d71",
   "metadata": {},
   "outputs": [
    {
     "name": "stderr",
     "output_type": "stream",
     "text": [
      "C:\\Users\\krish\\AppData\\Local\\Temp\\ipykernel_106616\\4132263331.py:5: DeprecationWarning: sipPyTypeDict() is deprecated, the extension module should use sipPyTypeDictRef() instead\n",
      "  class MyForm(QDialog):\n"
     ]
    },
    {
     "ename": "SystemExit",
     "evalue": "0",
     "output_type": "error",
     "traceback": [
      "An exception has occurred, use %tb to see the full traceback.\n",
      "\u001b[1;31mSystemExit\u001b[0m\u001b[1;31m:\u001b[0m 0\n"
     ]
    },
    {
     "name": "stderr",
     "output_type": "stream",
     "text": [
      "C:\\Users\\krish\\anaconda3\\Lib\\site-packages\\IPython\\core\\interactiveshell.py:3561: UserWarning: To exit: use 'exit', 'quit', or Ctrl-D.\n",
      "  warn(\"To exit: use 'exit', 'quit', or Ctrl-D.\", stacklevel=1)\n"
     ]
    }
   ],
   "source": [
    "import sys\n",
    "from PyQt5.QtWidgets import QDialog, QApplication\n",
    "from  demoLineEdit import *\n",
    "\n",
    "class MyForm(QDialog):\n",
    "    def __init__(self):\n",
    "        super().__init__()\n",
    "        self.ui = Ui_Dialog()\n",
    "        self.ui.setupUi(self)\n",
    "        self.ui.ButtonClickMe.clicked.connect(self.dismessage)\n",
    "        self.show()\n",
    "    def dismessage(self):\n",
    "        self.ui.labelDisplay.setText(\"Hello \" + self.ui.lineEditName.text())\n",
    "        \n",
    "if __name__==\"__main__\":\n",
    "    app= QApplication(sys.argv)\n",
    "    w = MyForm()\n",
    "    w.show()\n",
    "    sys.exit(app.exec_())\n"
   ]
  },
  {
   "cell_type": "code",
   "execution_count": null,
   "id": "ff53b4ed-939e-484b-a779-b850c5a0d8dd",
   "metadata": {},
   "outputs": [],
   "source": [
    "#How it works...\n",
    "#The demoLineEdit.py file is very easy to understand. A class with the name of the top\u0002level object is created, with Ui_ prepended. Since the top-level object used in our\n",
    "#application is Dialog, the Ui_Dialog class is created and stores the interface elements of\n",
    "#our widget. That class has two methods, setupUi() and retranslateUi(). The\n",
    "#setupUi() method sets up the widgets; it creates the widgets that you use while defining\n",
    "#the user interface in Qt Designer. The method creates the widgets one by one and also sets\n",
    "#their properties. The setupUi() method takes a single argument, which is the top-level\n",
    "#widget in which the user interface (child widgets) is created. In our application, it is an\n",
    "#instance of QDialog. The retranslateUi() method translates the interface.\n",
    "\n",
    "#Let's understand what callLineEdit.py does statement-wise:\n",
    "#1. It imports the necessary modules. QWidget is the base class of all user interface objects in PyQt5.\n",
    "\n",
    "#2. It creates a new MyForm class that inherits from the base class, QDialog.\n",
    "\n",
    "#3. It provides the default constructor for QDialog. The default constructor has no parent, and a widget with no parent is known as a window.\n",
    "\n",
    "#4. Event handling in PyQt5 uses signals and slots. A signal is an event, and a slot is\n",
    "#a method that is executed on the occurrence of a signal. For example, when you\n",
    "#click a push button, a clicked() event, also known as a signal, occurs. The\n",
    "#connect() method connects signals with slots. In this case, the slot is a method:\n",
    "#dispmessage(). That is, when the user clicks the push button, the\n",
    "#dispmessage() method will be invoked. clicked() is an event here and an\n",
    "#event handling loop waits for an event to occur and then dispatches it to perform\n",
    "#some task. The event handling loop continues to work until either the exit()\n",
    "#method is called or the main widget is destroyed.\n",
    "\n",
    "#5. It creates an application object with the name app through the QApplication()\n",
    "#method. Every PyQt5 application must create sys.argv application object which\n",
    "#contains a list of arguments from the command line, and it is passed to the\n",
    "#method while creating the application object. The sys.argv parameter helps in\n",
    "#passing and controlling the startup attributes of a script.\n",
    "\n",
    "#6. An instance of the MyForm class is created with the name w.\n",
    "\n",
    "#7. The show() method will display the widget on the screen.\n",
    "\n",
    "#8. The dispmessage() method performs event handling for the push button. It\n",
    "#displays the Hello text, along with the name entered in the Line Edit widget.\n",
    "\n",
    "#9. The sys.exit() method ensures a clean exit, releasing memory resources.\n",
    "#The exec_() method has an underscore because exec is a Python keyword.\n",
    "\n"
   ]
  },
  {
   "cell_type": "code",
   "execution_count": null,
   "id": "f55ac33f-4b92-4291-97da-724bb338e3e8",
   "metadata": {},
   "outputs": [],
   "source": []
  }
 ],
 "metadata": {
  "kernelspec": {
   "display_name": "Python 3 (ipykernel)",
   "language": "python",
   "name": "python3"
  },
  "language_info": {
   "codemirror_mode": {
    "name": "ipython",
    "version": 3
   },
   "file_extension": ".py",
   "mimetype": "text/x-python",
   "name": "python",
   "nbconvert_exporter": "python",
   "pygments_lexer": "ipython3",
   "version": "3.11.7"
  }
 },
 "nbformat": 4,
 "nbformat_minor": 5
}
