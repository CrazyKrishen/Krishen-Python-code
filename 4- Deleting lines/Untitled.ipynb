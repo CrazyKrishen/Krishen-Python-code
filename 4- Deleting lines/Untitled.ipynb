{
 "cells": [
  {
   "cell_type": "code",
   "execution_count": 1,
   "id": "5cd2cb14",
   "metadata": {},
   "outputs": [
    {
     "name": "stdout",
     "output_type": "stream",
     "text": [
      "The files content: \n",
      "I am so blue I'm greener than purpleWhich line would you like to delete? 1\n",
      "You will be deleting  I am so blue I'm greener than purple\n",
      "testing.txt after deletion of the line  1\n",
      "I am so blue I'm greener than purple\n"
     ]
    }
   ],
   "source": [
    "#deleting lines from the file\n",
    "import sys\n",
    "\n",
    "myFile='testing.txt'  #existing file \n",
    "\n",
    "z= open(myFile,'r')\n",
    "lines=z.readlines()\n",
    "print('The files content: ')\n",
    "\n",
    "for line in lines:\n",
    "    sys.stdout.write(line)\n",
    "z.close()\n",
    "\n",
    "\n",
    "nDel=int(input('Which line would you like to delete? '))\n",
    "\n",
    "print('You will be deleting ', lines[nDel-1])\n",
    "\n",
    "\n",
    "#open file again to write over the content\n",
    "j=open(myFile,'w')\n",
    "sentence=j.writelines(lines)\n",
    "j.close()\n",
    "\n",
    "\n",
    "print(myFile+' after deletion of the line ',nDel)\n",
    "r=open(myFile,'r')\n",
    "theline=r.readline()\n",
    "print(theline)\n",
    "\n",
    "r.close()\n"
   ]
  },
  {
   "cell_type": "code",
   "execution_count": null,
   "id": "189a51f8",
   "metadata": {},
   "outputs": [],
   "source": []
  }
 ],
 "metadata": {
  "kernelspec": {
   "display_name": "Python 3 (ipykernel)",
   "language": "python",
   "name": "python3"
  },
  "language_info": {
   "codemirror_mode": {
    "name": "ipython",
    "version": 3
   },
   "file_extension": ".py",
   "mimetype": "text/x-python",
   "name": "python",
   "nbconvert_exporter": "python",
   "pygments_lexer": "ipython3",
   "version": "3.9.13"
  }
 },
 "nbformat": 4,
 "nbformat_minor": 5
}
