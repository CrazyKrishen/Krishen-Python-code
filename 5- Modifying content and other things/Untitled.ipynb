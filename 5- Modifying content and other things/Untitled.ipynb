{
 "cells": [
  {
   "cell_type": "code",
   "execution_count": 2,
   "id": "75398c9d",
   "metadata": {},
   "outputs": [
    {
     "name": "stdout",
     "output_type": "stream",
     "text": [
      "The files content: \n",
      "I am so blue I'm greener than purpleWhich line would you like to modify? 1\n",
      "Please enter new content: Police will conduct random breath tests\n",
      "['Police will conduct random breath tests\\n']\n"
     ]
    }
   ],
   "source": [
    "#Modifying content\n",
    "\n",
    "import sys\n",
    "\n",
    "myFile='testing.txt'  #existing file \n",
    "\n",
    "z= open(myFile,'r')\n",
    "lines=z.readlines()\n",
    "print('The files content: ')\n",
    "\n",
    "for line in lines:\n",
    "    sys.stdout.write(line)\n",
    "z.close()\n",
    "\n",
    "nLine=int(input('Which line would you like to modify? '))\n",
    "\n",
    "if(nLine<=len(line)):\n",
    "    newSentence=input('Please enter new content: ')\n",
    "    lines[nLine-1]=newSentence +'\\n'\n",
    "    \n",
    "    g = open(myFile, 'w')\n",
    "    g.writelines(lines)\n",
    "    g.close()\n",
    "    \n",
    "    #reading the new sentence from the file \n",
    "    b=open(myFile,'r')\n",
    "    sentence=b.readlines()\n",
    "    print(sentence)\n",
    "    b.close()\n",
    "else:\n",
    "    \n",
    "    print('The line number exceeds the file limit!')"
   ]
  },
  {
   "cell_type": "code",
   "execution_count": null,
   "id": "9ed9250f",
   "metadata": {},
   "outputs": [],
   "source": []
  }
 ],
 "metadata": {
  "kernelspec": {
   "display_name": "Python 3 (ipykernel)",
   "language": "python",
   "name": "python3"
  },
  "language_info": {
   "codemirror_mode": {
    "name": "ipython",
    "version": 3
   },
   "file_extension": ".py",
   "mimetype": "text/x-python",
   "name": "python",
   "nbconvert_exporter": "python",
   "pygments_lexer": "ipython3",
   "version": "3.9.13"
  }
 },
 "nbformat": 4,
 "nbformat_minor": 5
}
